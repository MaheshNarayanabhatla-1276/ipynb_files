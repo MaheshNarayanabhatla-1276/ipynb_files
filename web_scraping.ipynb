{
 "cells": [
  {
   "cell_type": "code",
   "execution_count": 1,
   "id": "640d1645",
   "metadata": {},
   "outputs": [],
   "source": [
    "from selenium import webdriver\n",
    "from selenium.webdriver.common.by import By\n",
    "from selenium.webdriver.common.keys import Keys\n",
    "import pandas as pd\n",
    "from time import sleep"
   ]
  },
  {
   "cell_type": "code",
   "execution_count": 2,
   "id": "c087f2f8",
   "metadata": {},
   "outputs": [
    {
     "name": "stderr",
     "output_type": "stream",
     "text": [
      "C:\\Users\\numam\\AppData\\Local\\Temp/ipykernel_12400/878140197.py:1: DeprecationWarning: executable_path has been deprecated, please pass in a Service object\n",
      "  driver = webdriver.Chrome('C:\\\\Users\\\\numam\\\\Downloads\\\\chromedriver')\n"
     ]
    }
   ],
   "source": [
    "driver = webdriver.Chrome('C:\\\\Users\\\\numam\\\\Downloads\\\\chromedriver')\n",
    "driver.get('https://www.flipkartcareers.com/#!/joblist')"
   ]
  },
  {
   "cell_type": "code",
   "execution_count": 80,
   "id": "a0aed83e",
   "metadata": {},
   "outputs": [],
   "source": [
    "close=driver.find_element(By.CLASS_NAME,\"closeOpenBtn.cl-ck-btn\")\n",
    "close.click()"
   ]
  },
  {
   "cell_type": "code",
   "execution_count": 81,
   "id": "4b9c430c",
   "metadata": {},
   "outputs": [
    {
     "data": {
      "text/plain": [
       "10"
      ]
     },
     "execution_count": 81,
     "metadata": {},
     "output_type": "execute_result"
    }
   ],
   "source": [
    "more=driver.find_element(By.CLASS_NAME,\"loadmore-btn\")\n",
    "more.click()\n",
    "JS=driver.find_elements(By.CLASS_NAME,\"block-h\")\n",
    "len(JS)"
   ]
  },
  {
   "cell_type": "code",
   "execution_count": 82,
   "id": "5b37467c",
   "metadata": {
    "scrolled": true
   },
   "outputs": [
    {
     "name": "stdout",
     "output_type": "stream",
     "text": [
      "0\n",
      "Senior DevOps Engineer - Cleartrip\n",
      "1\n",
      "Engineering Manager - Cleartrip\n",
      "2\n",
      "Engineering Manager - Cleartrip\n",
      "3\n",
      "Manager\n",
      "4\n",
      "Senior Manager I\n",
      "5\n",
      "Senior Manager I\n",
      "6\n",
      "Manager II Line Haul Operations\n",
      "7\n",
      "UI Engineer IV\n",
      "8\n",
      "Product Design Manager\n",
      "9\n",
      "Site Reliability Engineer 2\n",
      "10\n",
      "Software Development Engineer IV\n",
      "11\n",
      "Software Development Engineer III\n",
      "12\n",
      "Manager - Finance Operations (Cleartrip)\n",
      "13\n",
      "Tech Lead- Network\n",
      "14\n",
      "Software Development Engineer I - Cleartrip\n",
      "15\n",
      "Senior Architect\n",
      "16\n",
      "Senior Manager II\n",
      "17\n",
      "Senior Manager\n",
      "18\n",
      "Manager - Key Account Management\n",
      "19\n",
      "Lead-Quality-assurance\n",
      "1 19\n",
      "20\n",
      "Manager - Business Operations\n",
      "21\n",
      "Senior Manager\n",
      "22\n",
      "Associate Director - West Zone (Large & Furniture - LM/FM)\n",
      "23\n",
      "Manager - Business Development\n",
      "24\n",
      "Assistant Manager\n",
      "25\n",
      "Assistant Manager - Central(Nodal Officer)\n",
      "26\n",
      "Assistant Manager - Central\n",
      "27\n",
      "Assistant Manager - Central\n",
      "28\n",
      "Architect - Cleartrip\n",
      "29\n",
      "Senior Product Manager\n",
      "30\n"
     ]
    },
    {
     "ename": "IndexError",
     "evalue": "list index out of range",
     "output_type": "error",
     "traceback": [
      "\u001b[1;31m---------------------------------------------------------------------------\u001b[0m",
      "\u001b[1;31mIndexError\u001b[0m                                Traceback (most recent call last)",
      "\u001b[1;32m~\\AppData\\Local\\Temp/ipykernel_12400/2723298639.py\u001b[0m in \u001b[0;36m<module>\u001b[1;34m\u001b[0m\n\u001b[0;32m      7\u001b[0m \u001b[1;33m\u001b[0m\u001b[0m\n\u001b[0;32m      8\u001b[0m         \u001b[0mprint\u001b[0m\u001b[1;33m(\u001b[0m\u001b[0ma\u001b[0m\u001b[1;33m)\u001b[0m\u001b[1;33m\u001b[0m\u001b[1;33m\u001b[0m\u001b[0m\n\u001b[1;32m----> 9\u001b[1;33m         \u001b[0mprint\u001b[0m\u001b[1;33m(\u001b[0m\u001b[0mJS\u001b[0m\u001b[1;33m.\u001b[0m\u001b[0m__getitem__\u001b[0m\u001b[1;33m(\u001b[0m\u001b[0ma\u001b[0m\u001b[1;33m)\u001b[0m\u001b[1;33m.\u001b[0m\u001b[0mtext\u001b[0m\u001b[1;33m)\u001b[0m\u001b[1;33m\u001b[0m\u001b[1;33m\u001b[0m\u001b[0m\n\u001b[0m\u001b[0;32m     10\u001b[0m         \u001b[0msleep\u001b[0m\u001b[1;33m(\u001b[0m\u001b[1;36m0.7\u001b[0m\u001b[1;33m)\u001b[0m\u001b[1;33m\u001b[0m\u001b[1;33m\u001b[0m\u001b[0m\n\u001b[0;32m     11\u001b[0m         \u001b[0mJS\u001b[0m\u001b[1;33m.\u001b[0m\u001b[0m__getitem__\u001b[0m\u001b[1;33m(\u001b[0m\u001b[0ma\u001b[0m\u001b[1;33m)\u001b[0m\u001b[1;33m.\u001b[0m\u001b[0mclick\u001b[0m\u001b[1;33m(\u001b[0m\u001b[1;33m)\u001b[0m\u001b[1;33m\u001b[0m\u001b[1;33m\u001b[0m\u001b[0m\n",
      "\u001b[1;31mIndexError\u001b[0m: list index out of range"
     ]
    }
   ],
   "source": [
    "a=0\n",
    "JS=driver.find_elements(By.CLASS_NAME,\"block-h\")\n",
    "for mo0re in range(1,9):\n",
    "    JS=driver.find_elements(By.CLASS_NAME,\"block-h\")\n",
    "    for i in range(len(JS)):\n",
    "        sleep(0.7)\n",
    "        \n",
    "        print(a)\n",
    "        print(JS.__getitem__(a).text)\n",
    "        sleep(0.7)\n",
    "        JS.__getitem__(a).click()\n",
    "        sleep(0.2)\n",
    "        p= driver.window_handles[0]\n",
    "        c = driver.window_handles[1]\n",
    "        sleep(0.2)\n",
    "        driver.switch_to.window(c)\n",
    "        sleep(0.2)\n",
    "        driver.close()\n",
    "        driver.switch_to.window(p)\n",
    "        a+=1\n",
    "        \n",
    "        \n",
    "        #    scraping part\n",
    "        \n",
    "        \n",
    "        \n",
    "    more=driver.find_element(By.CLASS_NAME,\"loadmore-btn\")\n",
    "    JS=driver.find_elements(By.CLASS_NAME,\"block-h\")\n",
    "    if mo0re<=8:\n",
    "        more.click()\n",
    "        sleep(0.5)\n",
    "    print(mo0re,i)"
   ]
  },
  {
   "cell_type": "code",
   "execution_count": 79,
   "id": "286983db",
   "metadata": {},
   "outputs": [
    {
     "data": {
      "text/plain": [
       "<selenium.webdriver.remote.webelement.WebElement (session=\"79a6bedde8f5f3bb4525dc6491d7e282\", element=\"4a6b6f01-78bc-4680-84b6-0b9405e783a0\")>"
      ]
     },
     "execution_count": 79,
     "metadata": {},
     "output_type": "execute_result"
    }
   ],
   "source": [
    "JS[30-1]"
   ]
  },
  {
   "cell_type": "code",
   "execution_count": 27,
   "id": "5ad25b43",
   "metadata": {},
   "outputs": [
    {
     "data": {
      "text/plain": [
       "'Senior DevOps Engineer - Cleartrip'"
      ]
     },
     "execution_count": 27,
     "metadata": {},
     "output_type": "execute_result"
    }
   ],
   "source": [
    "JS.__getitem__(i).text"
   ]
  },
  {
   "cell_type": "code",
   "execution_count": 109,
   "id": "c41ced0e",
   "metadata": {},
   "outputs": [],
   "source": [
    "JS.__getitem__(i).click()\n",
    "p= driver.window_handles[0]\n",
    "c = driver.window_handles[1]\n",
    "sleep(0.2)\n",
    "driver.switch_to.window(c)\n",
    "sleep(0.2)\n",
    "driver.close()\n",
    "driver.switch_to.window(p)"
   ]
  },
  {
   "cell_type": "code",
   "execution_count": 98,
   "id": "c51baa0f",
   "metadata": {},
   "outputs": [
    {
     "data": {
      "text/plain": [
       "'CDwindow-4530342063B831CC7FCBE885CC05EA2B'"
      ]
     },
     "execution_count": 98,
     "metadata": {},
     "output_type": "execute_result"
    }
   ],
   "source": [
    "p"
   ]
  },
  {
   "cell_type": "code",
   "execution_count": 99,
   "id": "d1320bd4",
   "metadata": {},
   "outputs": [
    {
     "data": {
      "text/plain": [
       "'CDwindow-C94DFAA816143F93F3097758B4A5982D'"
      ]
     },
     "execution_count": 99,
     "metadata": {},
     "output_type": "execute_result"
    }
   ],
   "source": [
    "c"
   ]
  },
  {
   "cell_type": "code",
   "execution_count": 105,
   "id": "d0cf18ff",
   "metadata": {},
   "outputs": [],
   "source": [
    "driver.switch_to.window(p)"
   ]
  },
  {
   "cell_type": "code",
   "execution_count": 103,
   "id": "187d4c93",
   "metadata": {},
   "outputs": [],
   "source": [
    "driver.switch_to.window(p)"
   ]
  },
  {
   "cell_type": "code",
   "execution_count": null,
   "id": "1952279d",
   "metadata": {},
   "outputs": [],
   "source": []
  }
 ],
 "metadata": {
  "kernelspec": {
   "display_name": "Python 3 (ipykernel)",
   "language": "python",
   "name": "python3"
  },
  "language_info": {
   "codemirror_mode": {
    "name": "ipython",
    "version": 3
   },
   "file_extension": ".py",
   "mimetype": "text/x-python",
   "name": "python",
   "nbconvert_exporter": "python",
   "pygments_lexer": "ipython3",
   "version": "3.9.7"
  }
 },
 "nbformat": 4,
 "nbformat_minor": 5
}
