{
 "cells": [
  {
   "cell_type": "code",
   "execution_count": 6,
   "id": "6e86d036",
   "metadata": {},
   "outputs": [],
   "source": [
    "import os \n",
    "os.chpath()"
   ]
  },
  {
   "cell_type": "code",
   "execution_count": 5,
   "id": "821c60b2",
   "metadata": {},
   "outputs": [],
   "source": [
    "os.startfile('BRAVE')"
   ]
  },
  {
   "cell_type": "code",
   "execution_count": 4,
   "id": "55d28850",
   "metadata": {},
   "outputs": [],
   "source": [
    "os.startfile('linkedlist.exe')"
   ]
  },
  {
   "cell_type": "code",
   "execution_count": 7,
   "id": "f170fa22",
   "metadata": {
    "scrolled": false
   },
   "outputs": [
    {
     "data": {
      "text/plain": [
       "<module 'ntpath' from 'C:\\\\Users\\\\numam\\\\anaconda3\\\\lib\\\\ntpath.py'>"
      ]
     },
     "execution_count": 7,
     "metadata": {},
     "output_type": "execute_result"
    }
   ],
   "source": [
    "os.path"
   ]
  }
 ],
 "metadata": {
  "kernelspec": {
   "display_name": "Python 3 (ipykernel)",
   "language": "python",
   "name": "python3"
  },
  "language_info": {
   "codemirror_mode": {
    "name": "ipython",
    "version": 3
   },
   "file_extension": ".py",
   "mimetype": "text/x-python",
   "name": "python",
   "nbconvert_exporter": "python",
   "pygments_lexer": "ipython3",
   "version": "3.9.7"
  }
 },
 "nbformat": 4,
 "nbformat_minor": 5
}
