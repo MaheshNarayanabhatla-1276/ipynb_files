{
 "cells": [
  {
   "cell_type": "code",
   "execution_count": 64,
   "id": "1c72baea",
   "metadata": {},
   "outputs": [
    {
     "name": "stdout",
     "output_type": "stream",
     "text": [
      "13*14*15*16*\n",
      "9*10*11*12*\n",
      "5*6*7*8*\n",
      "1*2*3*4*\n"
     ]
    }
   ],
   "source": [
    "k=13\n",
    "for i in range (4):\n",
    "    for j in range(4):\n",
    "        print(k,end='*')\n",
    "        k+=1\n",
    "    print()\n",
    "    k-=8"
   ]
  },
  {
   "cell_type": "code",
   "execution_count": 250,
   "id": "1d3ffb26",
   "metadata": {},
   "outputs": [
    {
     "name": "stdout",
     "output_type": "stream",
     "text": [
      "3 3 3 3 3 \n",
      "3 2 2 2 3 \n",
      "3 2 1 2 3 \n",
      "3 2 2 2 3 \n",
      "3 3 3 3 3 \n"
     ]
    }
   ],
   "source": [
    "a=3\n",
    "b=0\n",
    "c=0\n",
    "d=(a*2)-2\n",
    "f=a*2-1\n",
    "e=a\n",
    "for j in range(f):\n",
    "    a=e\n",
    "    b=0\n",
    "    for i in range(f):\n",
    "        if(i<=c):\n",
    "            b+=1\n",
    "        if(i>d):\n",
    "            b-=1\n",
    "        print(a-b+1,end=' ')\n",
    "    print()\n",
    "    c+=1\n",
    "    d-=1"
   ]
  },
  {
   "cell_type": "code",
   "execution_count": 1,
   "id": "0064fc0a",
   "metadata": {},
   "outputs": [
    {
     "name": "stdout",
     "output_type": "stream",
     "text": [
      "6\n",
      "3\n",
      "2 0 2\n"
     ]
    }
   ],
   "source": [
    "n=int(input())\n",
    "a=[]\n",
    "for i in range(n):\n",
    "    a.append(i+1)\n",
    "k=int(input())\n",
    "o=0\n",
    "an=0\n",
    "xo=0\n",
    "for i in range(n):\n",
    "    for j in range(n):\n",
    "        if(j>i):\n",
    "            if(a[i]^a[j] > xo and a[i]^a[j] <k):\n",
    "                xo=a[i]^a[j]\n",
    "            if(a[i]|a[j] > o and  a[i]|a[j] <k):\n",
    "                o=a[i]|a[j]\n",
    "            if(a[i]&a[j] >an and a[i]&a[j] <k):\n",
    "                an=a[i]&a[j]\n",
    "print(an,o,xo)"
   ]
  },
  {
   "cell_type": "code",
   "execution_count": 1,
   "id": "5817e1f8",
   "metadata": {},
   "outputs": [
    {
     "name": "stdout",
     "output_type": "stream",
     "text": [
      "8\n",
      "8 8 8 8 8 8 8 8 8 8 8 8 8 8 8 8 \n",
      "8 7 7 7 7 7 7 7 7 7 7 7 7 7 7 8 \n",
      "8 7 6 6 6 6 6 6 6 6 6 6 6 6 7 8 \n",
      "8 7 6 5 5 5 5 5 5 5 5 5 5 6 7 8 \n",
      "8 7 6 5 4 4 4 4 4 4 4 4 5 6 7 8 \n",
      "8 7 6 5 4 3 3 3 3 3 3 4 5 6 7 8 \n",
      "8 7 6 5 4 3 2 2 2 2 3 4 5 6 7 8 \n",
      "8 7 6 5 4 3 2 1 1 2 3 4 5 6 7 8 \n",
      "8 7 6 5 4 3 2 1 1 2 3 4 5 6 7 8 \n",
      "8 7 6 5 4 3 2 2 2 2 3 4 5 6 7 8 \n",
      "8 7 6 5 4 3 3 3 3 3 3 4 5 6 7 8 \n",
      "8 7 6 5 4 4 4 4 4 4 4 4 5 6 7 8 \n",
      "8 7 6 5 5 5 5 5 5 5 5 5 5 6 7 8 \n",
      "8 7 6 6 6 6 6 6 6 6 6 6 6 6 7 8 \n",
      "8 7 7 7 7 7 7 7 7 7 7 7 7 7 7 8 \n",
      "8 8 8 8 8 8 8 8 8 8 8 8 8 8 8 8 \n"
     ]
    }
   ],
   "source": [
    "x=int(input())\n",
    "a=0\n",
    "f=(x*2)\n",
    "g=f-1\n",
    "for i in range(f):\n",
    "    b=0\n",
    "    for j in range(f):\n",
    "        if j<=a:\n",
    "            b+=1\n",
    "        if j>g:\n",
    "            b-=1\n",
    "        print(x-b+1,end=' ')\n",
    "    print()\n",
    "    a+=1\n",
    "    g-=1"
   ]
  }
 ],
 "metadata": {
  "kernelspec": {
   "display_name": "Python 3 (ipykernel)",
   "language": "python",
   "name": "python3"
  },
  "language_info": {
   "codemirror_mode": {
    "name": "ipython",
    "version": 3
   },
   "file_extension": ".py",
   "mimetype": "text/x-python",
   "name": "python",
   "nbconvert_exporter": "python",
   "pygments_lexer": "ipython3",
   "version": "3.9.7"
  }
 },
 "nbformat": 4,
 "nbformat_minor": 5
}
