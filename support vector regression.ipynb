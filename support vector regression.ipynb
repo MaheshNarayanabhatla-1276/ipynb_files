{
 "cells": [
  {
   "cell_type": "code",
   "execution_count": 15,
   "id": "92a2ed79",
   "metadata": {},
   "outputs": [],
   "source": [
    "from sklearn.svm import SVR as svr \n",
    "from sklearn.preprocessing import StandardScaler as ss"
   ]
  },
  {
   "cell_type": "code",
   "execution_count": 24,
   "id": "ca63af4c",
   "metadata": {},
   "outputs": [],
   "source": [
    "regr=svr()"
   ]
  },
  {
   "cell_type": "code",
   "execution_count": 7,
   "id": "4b45ffba",
   "metadata": {},
   "outputs": [],
   "source": [
    "import pandas as pd\n",
    "from datetime import datetime as dt\n",
    "co19=pd.read_csv('covid_19_india.csv')\n",
    "co19.columns\n",
    "co19.dtypes\n",
    "co19['Date']=pd.to_datetime(co19['Date'])\n",
    "co19['Date']=co19['Date'].map(dt.toordinal)\n",
    "df=co19.groupby(co19['Date']).sum()\n",
    "y=df['Deaths'].values\n",
    "x=co19['Date'].unique()"
   ]
  },
  {
   "cell_type": "code",
   "execution_count": 16,
   "id": "66894835",
   "metadata": {},
   "outputs": [],
   "source": [
    "sx=ss()\n",
    "sy=ss()"
   ]
  },
  {
   "cell_type": "code",
   "execution_count": 19,
   "id": "71d742fd",
   "metadata": {},
   "outputs": [],
   "source": [
    "x=sx.fit_transform(x.reshape(-1,1))\n",
    "y=sy.fit_transform(y.reshape(-1,1))"
   ]
  },
  {
   "cell_type": "code",
   "execution_count": 13,
   "id": "e8bec797",
   "metadata": {},
   "outputs": [
    {
     "data": {
      "text/html": [
       "<div>\n",
       "<style scoped>\n",
       "    .dataframe tbody tr th:only-of-type {\n",
       "        vertical-align: middle;\n",
       "    }\n",
       "\n",
       "    .dataframe tbody tr th {\n",
       "        vertical-align: top;\n",
       "    }\n",
       "\n",
       "    .dataframe thead th {\n",
       "        text-align: right;\n",
       "    }\n",
       "</style>\n",
       "<table border=\"1\" class=\"dataframe\">\n",
       "  <thead>\n",
       "    <tr style=\"text-align: right;\">\n",
       "      <th></th>\n",
       "      <th>Sno</th>\n",
       "      <th>Date</th>\n",
       "      <th>Time</th>\n",
       "      <th>State/UnionTerritory</th>\n",
       "      <th>ConfirmedIndianNational</th>\n",
       "      <th>ConfirmedForeignNational</th>\n",
       "      <th>Cured</th>\n",
       "      <th>Deaths</th>\n",
       "      <th>Confirmed</th>\n",
       "    </tr>\n",
       "  </thead>\n",
       "  <tbody>\n",
       "    <tr>\n",
       "      <th>0</th>\n",
       "      <td>1</td>\n",
       "      <td>737454</td>\n",
       "      <td>6:00 PM</td>\n",
       "      <td>Kerala</td>\n",
       "      <td>1</td>\n",
       "      <td>0</td>\n",
       "      <td>0</td>\n",
       "      <td>0</td>\n",
       "      <td>1</td>\n",
       "    </tr>\n",
       "    <tr>\n",
       "      <th>1</th>\n",
       "      <td>2</td>\n",
       "      <td>737455</td>\n",
       "      <td>6:00 PM</td>\n",
       "      <td>Kerala</td>\n",
       "      <td>1</td>\n",
       "      <td>0</td>\n",
       "      <td>0</td>\n",
       "      <td>0</td>\n",
       "      <td>1</td>\n",
       "    </tr>\n",
       "    <tr>\n",
       "      <th>2</th>\n",
       "      <td>3</td>\n",
       "      <td>737456</td>\n",
       "      <td>6:00 PM</td>\n",
       "      <td>Kerala</td>\n",
       "      <td>2</td>\n",
       "      <td>0</td>\n",
       "      <td>0</td>\n",
       "      <td>0</td>\n",
       "      <td>2</td>\n",
       "    </tr>\n",
       "    <tr>\n",
       "      <th>3</th>\n",
       "      <td>4</td>\n",
       "      <td>737457</td>\n",
       "      <td>6:00 PM</td>\n",
       "      <td>Kerala</td>\n",
       "      <td>3</td>\n",
       "      <td>0</td>\n",
       "      <td>0</td>\n",
       "      <td>0</td>\n",
       "      <td>3</td>\n",
       "    </tr>\n",
       "    <tr>\n",
       "      <th>4</th>\n",
       "      <td>5</td>\n",
       "      <td>737458</td>\n",
       "      <td>6:00 PM</td>\n",
       "      <td>Kerala</td>\n",
       "      <td>3</td>\n",
       "      <td>0</td>\n",
       "      <td>0</td>\n",
       "      <td>0</td>\n",
       "      <td>3</td>\n",
       "    </tr>\n",
       "    <tr>\n",
       "      <th>...</th>\n",
       "      <td>...</td>\n",
       "      <td>...</td>\n",
       "      <td>...</td>\n",
       "      <td>...</td>\n",
       "      <td>...</td>\n",
       "      <td>...</td>\n",
       "      <td>...</td>\n",
       "      <td>...</td>\n",
       "      <td>...</td>\n",
       "    </tr>\n",
       "    <tr>\n",
       "      <th>18105</th>\n",
       "      <td>18106</td>\n",
       "      <td>738013</td>\n",
       "      <td>8:00 AM</td>\n",
       "      <td>Telangana</td>\n",
       "      <td>-</td>\n",
       "      <td>-</td>\n",
       "      <td>638410</td>\n",
       "      <td>3831</td>\n",
       "      <td>650353</td>\n",
       "    </tr>\n",
       "    <tr>\n",
       "      <th>18106</th>\n",
       "      <td>18107</td>\n",
       "      <td>738013</td>\n",
       "      <td>8:00 AM</td>\n",
       "      <td>Tripura</td>\n",
       "      <td>-</td>\n",
       "      <td>-</td>\n",
       "      <td>77811</td>\n",
       "      <td>773</td>\n",
       "      <td>80660</td>\n",
       "    </tr>\n",
       "    <tr>\n",
       "      <th>18107</th>\n",
       "      <td>18108</td>\n",
       "      <td>738013</td>\n",
       "      <td>8:00 AM</td>\n",
       "      <td>Uttarakhand</td>\n",
       "      <td>-</td>\n",
       "      <td>-</td>\n",
       "      <td>334650</td>\n",
       "      <td>7368</td>\n",
       "      <td>342462</td>\n",
       "    </tr>\n",
       "    <tr>\n",
       "      <th>18108</th>\n",
       "      <td>18109</td>\n",
       "      <td>738013</td>\n",
       "      <td>8:00 AM</td>\n",
       "      <td>Uttar Pradesh</td>\n",
       "      <td>-</td>\n",
       "      <td>-</td>\n",
       "      <td>1685492</td>\n",
       "      <td>22775</td>\n",
       "      <td>1708812</td>\n",
       "    </tr>\n",
       "    <tr>\n",
       "      <th>18109</th>\n",
       "      <td>18110</td>\n",
       "      <td>738013</td>\n",
       "      <td>8:00 AM</td>\n",
       "      <td>West Bengal</td>\n",
       "      <td>-</td>\n",
       "      <td>-</td>\n",
       "      <td>1506532</td>\n",
       "      <td>18252</td>\n",
       "      <td>1534999</td>\n",
       "    </tr>\n",
       "  </tbody>\n",
       "</table>\n",
       "<p>18110 rows × 9 columns</p>\n",
       "</div>"
      ],
      "text/plain": [
       "         Sno    Date     Time State/UnionTerritory ConfirmedIndianNational  \\\n",
       "0          1  737454  6:00 PM               Kerala                       1   \n",
       "1          2  737455  6:00 PM               Kerala                       1   \n",
       "2          3  737456  6:00 PM               Kerala                       2   \n",
       "3          4  737457  6:00 PM               Kerala                       3   \n",
       "4          5  737458  6:00 PM               Kerala                       3   \n",
       "...      ...     ...      ...                  ...                     ...   \n",
       "18105  18106  738013  8:00 AM            Telangana                       -   \n",
       "18106  18107  738013  8:00 AM              Tripura                       -   \n",
       "18107  18108  738013  8:00 AM          Uttarakhand                       -   \n",
       "18108  18109  738013  8:00 AM        Uttar Pradesh                       -   \n",
       "18109  18110  738013  8:00 AM          West Bengal                       -   \n",
       "\n",
       "      ConfirmedForeignNational    Cured  Deaths  Confirmed  \n",
       "0                            0        0       0          1  \n",
       "1                            0        0       0          1  \n",
       "2                            0        0       0          2  \n",
       "3                            0        0       0          3  \n",
       "4                            0        0       0          3  \n",
       "...                        ...      ...     ...        ...  \n",
       "18105                        -   638410    3831     650353  \n",
       "18106                        -    77811     773      80660  \n",
       "18107                        -   334650    7368     342462  \n",
       "18108                        -  1685492   22775    1708812  \n",
       "18109                        -  1506532   18252    1534999  \n",
       "\n",
       "[18110 rows x 9 columns]"
      ]
     },
     "execution_count": 13,
     "metadata": {},
     "output_type": "execute_result"
    }
   ],
   "source": [
    "co19"
   ]
  },
  {
   "cell_type": "code",
   "execution_count": 25,
   "id": "1b9a0968",
   "metadata": {},
   "outputs": [
    {
     "name": "stderr",
     "output_type": "stream",
     "text": [
      "C:\\Users\\numam\\anaconda3\\lib\\site-packages\\sklearn\\utils\\validation.py:63: DataConversionWarning: A column-vector y was passed when a 1d array was expected. Please change the shape of y to (n_samples, ), for example using ravel().\n",
      "  return f(*args, **kwargs)\n"
     ]
    },
    {
     "data": {
      "text/plain": [
       "SVR()"
      ]
     },
     "execution_count": 25,
     "metadata": {},
     "output_type": "execute_result"
    }
   ],
   "source": [
    "regr.fit(x,y)"
   ]
  },
  {
   "cell_type": "code",
   "execution_count": 27,
   "id": "828dddf0",
   "metadata": {},
   "outputs": [],
   "source": [
    "pred=regr.predict(y)"
   ]
  },
  {
   "cell_type": "code",
   "execution_count": null,
   "id": "6053e660",
   "metadata": {},
   "outputs": [],
   "source": []
  }
 ],
 "metadata": {
  "kernelspec": {
   "display_name": "Python 3",
   "language": "python",
   "name": "python3"
  },
  "language_info": {
   "codemirror_mode": {
    "name": "ipython",
    "version": 3
   },
   "file_extension": ".py",
   "mimetype": "text/x-python",
   "name": "python",
   "nbconvert_exporter": "python",
   "pygments_lexer": "ipython3",
   "version": "3.8.8"
  }
 },
 "nbformat": 4,
 "nbformat_minor": 5
}
