{
 "cells": [
  {
   "cell_type": "code",
   "execution_count": 1,
   "id": "484cf063",
   "metadata": {},
   "outputs": [
    {
     "name": "stdout",
     "output_type": "stream",
     "text": [
      "train_images shape: (60000, 28, 28)\n",
      "train_labels shape: (60000,)\n",
      "test_images shape: (10000, 28, 28)\n",
      "test_labels shape: (10000,)\n"
     ]
    }
   ],
   "source": [
    "from keras.datasets import mnist\n",
    "(train_images, train_labels), (test_images, test_labels) = mnist.load_data()\n",
    "\n",
    "print(\"train_images shape: {}\".format(train_images.shape))\n",
    "print(\"train_labels shape: {}\".format(train_labels.shape))\n",
    "print(\"test_images shape: {}\".format(test_images.shape))\n",
    "print(\"test_labels shape: {}\".format(test_labels.shape))"
   ]
  },
  {
   "cell_type": "code",
   "execution_count": 2,
   "id": "7cf6373a",
   "metadata": {},
   "outputs": [
    {
     "data": {
      "text/plain": [
       "(60000, 28, 28)"
      ]
     },
     "execution_count": 2,
     "metadata": {},
     "output_type": "execute_result"
    }
   ],
   "source": [
    "train_images.shape"
   ]
  },
  {
   "cell_type": "code",
   "execution_count": 3,
   "id": "a06c2f49",
   "metadata": {},
   "outputs": [],
   "source": [
    "# visualizing data"
   ]
  },
  {
   "cell_type": "code",
   "execution_count": 4,
   "id": "f0f0be06",
   "metadata": {},
   "outputs": [
    {
     "data": {
      "image/png": "[encoded data removed]",
      "text/plain": [
       "<Figure size 432x432 with 9 Axes>"
      ]
     },
     "metadata": {},
     "output_type": "display_data"
    }
   ],
   "source": [
    "import matplotlib.pyplot as plt\n",
    "plt.rcParams[\"font.size\"] = 18\n",
    "plt.figure(figsize=(6,6))\n",
    "\n",
    "for j in range(9):\n",
    "    plt.subplot(3,3, j+1)\n",
    "    plt.imshow(train_images[j],cmap=plt.cm.binary)\n",
    "    plt.tick_params(bottom=False,left=False,labelbottom=False,labelleft=False)\n",
    "    plt.text(0,26,'%d'%train_labels[j])\n",
    "plt.subplots_adjust(wspace=0, hspace=0)\n",
    "plt.show()"
   ]
  },
  {
   "cell_type": "code",
   "execution_count": 5,
   "id": "cb4119e1",
   "metadata": {},
   "outputs": [],
   "source": [
    "# changing shape and normalizing data"
   ]
  },
  {
   "cell_type": "code",
   "execution_count": 6,
   "id": "baec7a40",
   "metadata": {},
   "outputs": [],
   "source": [
    "train_images=train_images.reshape((60000, 28*28)) # change the shape\n",
    "train_images=train_images.astype('float32')/255 # normalization\n",
    "\n",
    "test_images=test_images.reshape((10000, 28*28)) # change the shape\n",
    "test_images=test_images.astype('float32')/255 # normalization"
   ]
  },
  {
   "cell_type": "code",
   "execution_count": 7,
   "id": "1f35958d",
   "metadata": {},
   "outputs": [
    {
     "name": "stdout",
     "output_type": "stream",
     "text": [
      "train_labels shape: \n",
      "test_labels shape: \n",
      "The first 10 rows in the train_labels:\n",
      "[[0. 0. 0. 0. 0. 1. 0. 0. 0. 0.]\n",
      " [1. 0. 0. 0. 0. 0. 0. 0. 0. 0.]\n",
      " [0. 0. 0. 0. 1. 0. 0. 0. 0. 0.]\n",
      " [0. 1. 0. 0. 0. 0. 0. 0. 0. 0.]\n",
      " [0. 0. 0. 0. 0. 0. 0. 0. 0. 1.]\n",
      " [0. 0. 1. 0. 0. 0. 0. 0. 0. 0.]\n",
      " [0. 1. 0. 0. 0. 0. 0. 0. 0. 0.]\n",
      " [0. 0. 0. 1. 0. 0. 0. 0. 0. 0.]\n",
      " [0. 1. 0. 0. 0. 0. 0. 0. 0. 0.]\n",
      " [0. 0. 0. 0. 1. 0. 0. 0. 0. 0.]]\n"
     ]
    }
   ],
   "source": [
    "from keras.utils import to_categorical\n",
    "\n",
    "train_labels = to_categorical(train_labels)\n",
    "test_labels = to_categorical(test_labels)\n",
    "\n",
    "print(\"train_labels shape: \".format(train_labels.shape))\n",
    "print(\"test_labels shape: \".format(test_labels.shape))\n",
    "\n",
    "print(\"The first 10 rows in the train_labels:\\n{}\".format(train_labels[:10]))"
   ]
  },
  {
   "cell_type": "code",
   "execution_count": 8,
   "id": "d65c1950",
   "metadata": {},
   "outputs": [
    {
     "data": {
      "text/plain": [
       "array([[0., 0., 0., ..., 1., 0., 0.],\n",
       "       [0., 0., 1., ..., 0., 0., 0.],\n",
       "       [0., 1., 0., ..., 0., 0., 0.],\n",
       "       ...,\n",
       "       [0., 0., 0., ..., 0., 0., 0.],\n",
       "       [0., 0., 0., ..., 0., 0., 0.],\n",
       "       [0., 0., 0., ..., 0., 0., 0.]], dtype=float32)"
      ]
     },
     "execution_count": 8,
     "metadata": {},
     "output_type": "execute_result"
    }
   ],
   "source": [
    "test_labels"
   ]
  },
  {
   "cell_type": "code",
   "execution_count": 9,
   "id": "074391d3",
   "metadata": {},
   "outputs": [],
   "source": [
    "#building neural network"
   ]
  },
  {
   "cell_type": "code",
   "execution_count": 10,
   "id": "c9a7d5fe",
   "metadata": {},
   "outputs": [
    {
     "name": "stdout",
     "output_type": "stream",
     "text": [
      "Model: \"sequential\"\n",
      "_________________________________________________________________\n",
      " Layer (type)                Output Shape              Param #   \n",
      "=================================================================\n",
      " dense (Dense)               (None, 512)               401920    \n",
      "                                                                 \n",
      " dense_1 (Dense)             (None, 10)                5130      \n",
      "                                                                 \n",
      "=================================================================\n",
      "Total params: 407,050\n",
      "Trainable params: 407,050\n",
      "Non-trainable params: 0\n",
      "_________________________________________________________________\n"
     ]
    }
   ],
   "source": [
    "from keras import models, layers\n",
    "\n",
    "network = models.Sequential()\n",
    "network.add(layers.Dense(512, activation = 'relu', input_shape=(28*28,)))\n",
    "network.add(layers.Dense(10, activation='softmax'))\n",
    "\n",
    "network.summary()"
   ]
  },
  {
   "cell_type": "code",
   "execution_count": 11,
   "id": "af60120c",
   "metadata": {},
   "outputs": [
    {
     "name": "stdout",
     "output_type": "stream",
     "text": [
      "The numebr of parameters for weights (first layer):  401408\n",
      "The numebr of all parameters for weights (first layer):  401920\n",
      "The numebr of parameters for weights (second layer):  5120\n",
      "The numebr of all parameters for weights (second layer):  5130\n"
     ]
    }
   ],
   "source": [
    "print(\"The numebr of parameters for weights (first layer): \", 28*28*512)\n",
    "print(\"The numebr of all parameters for weights (first layer): \", 28*28*512+512)\n",
    "\n",
    "print(\"The numebr of parameters for weights (second layer): \", 10*512)\n",
    "print(\"The numebr of all parameters for weights (second layer): \", 10*512+10)"
   ]
  },
  {
   "cell_type": "code",
   "execution_count": 12,
   "id": "a2275e95",
   "metadata": {},
   "outputs": [
    {
     "name": "stdout",
     "output_type": "stream",
     "text": [
      "Epoch 1/5\n",
      "469/469 [==============================] - 5s 9ms/step - loss: 0.2552 - accuracy: 0.9263\n",
      "Epoch 2/5\n",
      "469/469 [==============================] - 4s 9ms/step - loss: 0.1036 - accuracy: 0.9689\n",
      "Epoch 3/5\n",
      "469/469 [==============================] - 4s 9ms/step - loss: 0.0689 - accuracy: 0.9796\n",
      "Epoch 4/5\n",
      "469/469 [==============================] - 4s 9ms/step - loss: 0.0502 - accuracy: 0.9848\n",
      "Epoch 5/5\n",
      "469/469 [==============================] - 5s 10ms/step - loss: 0.0376 - accuracy: 0.9885\n"
     ]
    },
    {
     "data": {
      "text/plain": [
       "<keras.callbacks.History at 0x1dcc68267c0>"
      ]
     },
     "execution_count": 12,
     "metadata": {},
     "output_type": "execute_result"
    }
   ],
   "source": [
    "network.compile(optimizer='rmsprop',\n",
    "                          loss='categorical_crossentropy',\n",
    "                          metrics=['accuracy'])\n",
    "                \n",
    "network.fit(train_images, train_labels, epochs=5, batch_size=128)"
   ]
  },
  {
   "cell_type": "code",
   "execution_count": 13,
   "id": "d89b4f9a",
   "metadata": {},
   "outputs": [
    {
     "name": "stdout",
     "output_type": "stream",
     "text": [
      "313/313 [==============================] - 1s 2ms/step - loss: 0.0706 - accuracy: 0.9789\n",
      "test_loss 0.07056135684251785\n",
      "test_acc:  0.9789000153541565\n"
     ]
    }
   ],
   "source": [
    "test_loss, test_acc = network.evaluate(test_images, test_labels)\n",
    "print(\"test_loss\", test_loss)\n",
    "print(\"test_acc: \", test_acc)"
   ]
  },
  {
   "cell_type": "code",
   "execution_count": 14,
   "id": "01b517d4",
   "metadata": {},
   "outputs": [
    {
     "name": "stdout",
     "output_type": "stream",
     "text": [
      "313/313 [==============================] - 1s 2ms/step\n"
     ]
    },
    {
     "data": {
      "text/plain": [
       "array([[4.9058664e-09, 2.1974207e-11, 2.5333309e-06, ..., 9.9996305e-01,\n",
       "        3.6854346e-09, 2.4278492e-08],\n",
       "       [1.5149463e-11, 2.0048088e-07, 9.9999940e-01, ..., 5.8694386e-16,\n",
       "        9.1087262e-09, 3.0940004e-18],\n",
       "       [8.3779568e-08, 9.9946576e-01, 1.1708005e-04, ..., 3.3537266e-04,\n",
       "        5.2560961e-05, 1.4060764e-07],\n",
       "       ...,\n",
       "       [7.0276983e-12, 2.9234434e-10, 6.0707959e-11, ..., 1.1578307e-04,\n",
       "        8.2758696e-08, 8.1832759e-06],\n",
       "       [4.7187230e-11, 1.2419795e-12, 7.5288213e-13, ..., 1.0450147e-11,\n",
       "        3.8132788e-07, 9.0472253e-13],\n",
       "       [2.2799412e-12, 5.8506646e-16, 2.8399141e-11, ..., 9.2751319e-15,\n",
       "        7.9130474e-13, 1.7724207e-14]], dtype=float32)"
      ]
     },
     "execution_count": 14,
     "metadata": {},
     "output_type": "execute_result"
    }
   ],
   "source": [
    "network.predict(test_images)"
   ]
  }
 ],
 "metadata": {
  "kernelspec": {
   "display_name": "Python 3 (ipykernel)",
   "language": "python",
   "name": "python3"
  },
  "language_info": {
   "codemirror_mode": {
    "name": "ipython",
    "version": 3
   },
   "file_extension": ".py",
   "mimetype": "text/x-python",
   "name": "python",
   "nbconvert_exporter": "python",
   "pygments_lexer": "ipython3",
   "version": "3.9.7"
  }
 },
 "nbformat": 4,
 "nbformat_minor": 5
}
