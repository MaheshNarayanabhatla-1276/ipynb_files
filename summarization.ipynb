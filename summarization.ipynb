{
 "cells": [
  {
   "cell_type": "markdown",
   "metadata": {
    "id": "CeX0QJnXjTnO"
   },
   "source": [
    "# Abstractive Summarization with Hugging Face Transformers\n",
    "\n",
    "**Author:** Sreyan Ghosh<br>\n",
    "**Date created:** 2022/07/04<br>\n",
    "**Last modified:** 2022/08/28<br>\n",
    "**Description:** Training T5 using Hugging Face Transformers for Abstractive Summarization."
   ]
  },
  {
   "cell_type": "markdown",
   "metadata": {
    "id": "WLaPEsg3jTnT"
   },
   "source": [
    "## Introduction\n",
    "\n",
    "Automatic summarization is one of the central problems in\n",
    "Natural Language Processing (NLP). It poses several challenges relating to language\n",
    "understanding (e.g. identifying important content)\n",
    "and generation (e.g. aggregating and rewording the identified content into a summary).\n",
    "\n",
    "In this tutorial, we tackle the single-document summarization task\n",
    "with an abstractive modeling approach. The primary idea here is to generate a short,\n",
    "single-sentence news summary answering the question “What is the news article about?”.\n",
    "This approach to summarization is also known as *Abstractive Summarization* and has\n",
    "seen growing interest among researchers in various disciplines.\n",
    "\n",
    "Following prior work, we aim to tackle this problem using a\n",
    "sequence-to-sequence model. [Text-to-Text Transfer Transformer (`T5`)](https://arxiv.org/abs/1910.10683)\n",
    "is a [Transformer-based](https://arxiv.org/abs/1706.03762) model built on the encoder-decoder\n",
    "architecture, pretrained on a multi-task mixture of unsupervised and supervised tasks where each task\n",
    "is converted into a text-to-text format. T5 shows impressive results in a variety of sequence-to-sequence\n",
    "(sequence in this notebook refers to text) like summarization, translation, etc.\n",
    "\n",
    "In this notebook, we will fine-tune the pretrained T5 on the Abstractive Summarization\n",
    "task using Hugging Face Transformers on the `XSum` dataset loaded from Hugging Face Datasets."
   ]
  },
  {
   "cell_type": "markdown",
   "metadata": {
    "id": "m0GCPRm3jTnU"
   },
   "source": [
    "## Setup"
   ]
  },
  {
   "cell_type": "markdown",
   "metadata": {
    "id": "38jysaDzjTnU"
   },
   "source": [
    "### Installing the requirements"
   ]
  },
  {
   "cell_type": "code",
   "execution_count": 2,
   "metadata": {
    "id": "utpZiclojTnV"
   },
   "outputs": [
    {
     "name": "stdout",
     "output_type": "stream",
     "text": [
      "Collecting transformers==4.20.0\n",
      "  Downloading transformers-4.20.0-py3-none-any.whl (4.4 MB)\n",
      "Requirement already satisfied: regex!=2019.12.17 in c:\\users\\numam\\anaconda3\\lib\\site-packages (from transformers==4.20.0) (2021.8.3)\n",
      "Requirement already satisfied: tqdm>=4.27 in c:\\users\\numam\\anaconda3\\lib\\site-packages (from transformers==4.20.0) (4.62.3)\n",
      "Requirement already satisfied: numpy>=1.17 in c:\\users\\numam\\anaconda3\\lib\\site-packages (from transformers==4.20.0) (1.20.3)\n",
      "Requirement already satisfied: huggingface-hub<1.0,>=0.1.0 in c:\\users\\numam\\anaconda3\\lib\\site-packages (from transformers==4.20.0) (0.11.0)\n",
      "Requirement already satisfied: packaging>=20.0 in c:\\users\\numam\\anaconda3\\lib\\site-packages (from transformers==4.20.0) (21.0)\n",
      "Requirement already satisfied: requests in c:\\users\\numam\\anaconda3\\lib\\site-packages (from transformers==4.20.0) (2.26.0)\n",
      "Requirement already satisfied: filelock in c:\\users\\numam\\anaconda3\\lib\\site-packages (from transformers==4.20.0) (3.8.0)\n",
      "Requirement already satisfied: pyyaml>=5.1 in c:\\users\\numam\\anaconda3\\lib\\site-packages (from transformers==4.20.0) (6.0)\n",
      "Collecting tokenizers!=0.11.3,<0.13,>=0.11.1\n",
      "  Downloading tokenizers-0.12.1-cp39-cp39-win_amd64.whl (3.3 MB)\n",
      "Requirement already satisfied: typing-extensions>=3.7.4.3 in c:\\users\\numam\\anaconda3\\lib\\site-packages (from huggingface-hub<1.0,>=0.1.0->transformers==4.20.0) (4.4.0)\n",
      "Requirement already satisfied: pyparsing>=2.0.2 in c:\\users\\numam\\anaconda3\\lib\\site-packages (from packaging>=20.0->transformers==4.20.0) (3.0.4)\n",
      "Requirement already satisfied: colorama in c:\\users\\numam\\anaconda3\\lib\\site-packages (from tqdm>=4.27->transformers==4.20.0) (0.4.4)\n",
      "Requirement already satisfied: idna<4,>=2.5 in c:\\users\\numam\\anaconda3\\lib\\site-packages (from requests->transformers==4.20.0) (2.10)\n",
      "Requirement already satisfied: charset-normalizer~=2.0.0 in c:\\users\\numam\\anaconda3\\lib\\site-packages (from requests->transformers==4.20.0) (2.0.4)\n",
      "Requirement already satisfied: urllib3<1.27,>=1.21.1 in c:\\users\\numam\\anaconda3\\lib\\site-packages (from requests->transformers==4.20.0) (1.26.7)\n",
      "Requirement already satisfied: certifi>=2017.4.17 in c:\\users\\numam\\anaconda3\\lib\\site-packages (from requests->transformers==4.20.0) (2021.10.8)\n",
      "Installing collected packages: tokenizers, transformers\n",
      "  Attempting uninstall: tokenizers\n",
      "    Found existing installation: tokenizers 0.13.2\n",
      "    Uninstalling tokenizers-0.13.2:\n",
      "      Successfully uninstalled tokenizers-0.13.2\n"
     ]
    },
    {
     "name": "stderr",
     "output_type": "stream",
     "text": [
      "ERROR: Could not install packages due to an OSError: [WinError 5] Access is denied: 'C:\\\\Users\\\\numam\\\\anaconda3\\\\Lib\\\\site-packages\\\\~okenizers\\\\tokenizers.cp39-win_amd64.pyd'\n",
      "Consider using the `--user` option or check the permissions.\n",
      "\n"
     ]
    },
    {
     "name": "stdout",
     "output_type": "stream",
     "text": [
      "Collecting keras_nlp==0.3.0\n",
      "  Downloading keras_nlp-0.3.0-py3-none-any.whl (142 kB)\n",
      "Collecting tensorflow-text\n",
      "  Downloading tensorflow_text-2.10.0-cp39-cp39-win_amd64.whl (5.0 MB)\n",
      "Requirement already satisfied: tensorflow in c:\\users\\numam\\anaconda3\\lib\\site-packages (from keras_nlp==0.3.0) (2.10.0)\n",
      "Requirement already satisfied: absl-py in c:\\users\\numam\\anaconda3\\lib\\site-packages (from keras_nlp==0.3.0) (1.2.0)\n",
      "Requirement already satisfied: packaging in c:\\users\\numam\\anaconda3\\lib\\site-packages (from keras_nlp==0.3.0) (21.0)\n",
      "Requirement already satisfied: numpy in c:\\users\\numam\\anaconda3\\lib\\site-packages (from keras_nlp==0.3.0) (1.20.3)\n",
      "Requirement already satisfied: pyparsing>=2.0.2 in c:\\users\\numam\\anaconda3\\lib\\site-packages (from packaging->keras_nlp==0.3.0) (3.0.4)\n",
      "Requirement already satisfied: tensorflow-estimator<2.11,>=2.10.0 in c:\\users\\numam\\anaconda3\\lib\\site-packages (from tensorflow->keras_nlp==0.3.0) (2.10.0)\n",
      "Requirement already satisfied: keras-preprocessing>=1.1.1 in c:\\users\\numam\\anaconda3\\lib\\site-packages (from tensorflow->keras_nlp==0.3.0) (1.1.2)\n",
      "Requirement already satisfied: google-pasta>=0.1.1 in c:\\users\\numam\\anaconda3\\lib\\site-packages (from tensorflow->keras_nlp==0.3.0) (0.2.0)\n",
      "Requirement already satisfied: termcolor>=1.1.0 in c:\\users\\numam\\anaconda3\\lib\\site-packages (from tensorflow->keras_nlp==0.3.0) (1.1.0)\n",
      "Requirement already satisfied: h5py>=2.9.0 in c:\\users\\numam\\anaconda3\\lib\\site-packages (from tensorflow->keras_nlp==0.3.0) (3.2.1)\n",
      "Requirement already satisfied: tensorflow-io-gcs-filesystem>=0.23.1 in c:\\users\\numam\\anaconda3\\lib\\site-packages (from tensorflow->keras_nlp==0.3.0) (0.27.0)\n",
      "Requirement already satisfied: keras<2.11,>=2.10.0 in c:\\users\\numam\\anaconda3\\lib\\site-packages (from tensorflow->keras_nlp==0.3.0) (2.10.0)\n",
      "Requirement already satisfied: flatbuffers>=2.0 in c:\\users\\numam\\anaconda3\\lib\\site-packages (from tensorflow->keras_nlp==0.3.0) (22.9.24)\n",
      "Requirement already satisfied: grpcio<2.0,>=1.24.3 in c:\\users\\numam\\anaconda3\\lib\\site-packages (from tensorflow->keras_nlp==0.3.0) (1.48.1)\n",
      "Requirement already satisfied: six>=1.12.0 in c:\\users\\numam\\anaconda3\\lib\\site-packages (from tensorflow->keras_nlp==0.3.0) (1.16.0)\n",
      "Requirement already satisfied: typing-extensions>=3.6.6 in c:\\users\\numam\\anaconda3\\lib\\site-packages (from tensorflow->keras_nlp==0.3.0) (4.4.0)\n",
      "Requirement already satisfied: protobuf<3.20,>=3.9.2 in c:\\users\\numam\\anaconda3\\lib\\site-packages (from tensorflow->keras_nlp==0.3.0) (3.19.4)\n",
      "Requirement already satisfied: setuptools in c:\\users\\numam\\anaconda3\\lib\\site-packages (from tensorflow->keras_nlp==0.3.0) (58.0.4)\n",
      "Requirement already satisfied: wrapt>=1.11.0 in c:\\users\\numam\\anaconda3\\lib\\site-packages (from tensorflow->keras_nlp==0.3.0) (1.12.1)\n",
      "Requirement already satisfied: gast<=0.4.0,>=0.2.1 in c:\\users\\numam\\anaconda3\\lib\\site-packages (from tensorflow->keras_nlp==0.3.0) (0.4.0)\n",
      "Requirement already satisfied: opt-einsum>=2.3.2 in c:\\users\\numam\\anaconda3\\lib\\site-packages (from tensorflow->keras_nlp==0.3.0) (3.3.0)\n",
      "Requirement already satisfied: libclang>=13.0.0 in c:\\users\\numam\\anaconda3\\lib\\site-packages (from tensorflow->keras_nlp==0.3.0) (14.0.6)\n",
      "Requirement already satisfied: tensorboard<2.11,>=2.10 in c:\\users\\numam\\anaconda3\\lib\\site-packages (from tensorflow->keras_nlp==0.3.0) (2.10.1)\n",
      "Requirement already satisfied: astunparse>=1.6.0 in c:\\users\\numam\\anaconda3\\lib\\site-packages (from tensorflow->keras_nlp==0.3.0) (1.6.3)\n",
      "Requirement already satisfied: wheel<1.0,>=0.23.0 in c:\\users\\numam\\anaconda3\\lib\\site-packages (from astunparse>=1.6.0->tensorflow->keras_nlp==0.3.0) (0.37.0)\n",
      "Requirement already satisfied: requests<3,>=2.21.0 in c:\\users\\numam\\anaconda3\\lib\\site-packages (from tensorboard<2.11,>=2.10->tensorflow->keras_nlp==0.3.0) (2.26.0)\n",
      "Requirement already satisfied: google-auth-oauthlib<0.5,>=0.4.1 in c:\\users\\numam\\anaconda3\\lib\\site-packages (from tensorboard<2.11,>=2.10->tensorflow->keras_nlp==0.3.0) (0.4.6)\n",
      "Requirement already satisfied: google-auth<3,>=1.6.3 in c:\\users\\numam\\anaconda3\\lib\\site-packages (from tensorboard<2.11,>=2.10->tensorflow->keras_nlp==0.3.0) (2.11.0)\n",
      "Requirement already satisfied: tensorboard-plugin-wit>=1.6.0 in c:\\users\\numam\\anaconda3\\lib\\site-packages (from tensorboard<2.11,>=2.10->tensorflow->keras_nlp==0.3.0) (1.8.1)\n",
      "Requirement already satisfied: markdown>=2.6.8 in c:\\users\\numam\\anaconda3\\lib\\site-packages (from tensorboard<2.11,>=2.10->tensorflow->keras_nlp==0.3.0) (3.4.1)\n",
      "Requirement already satisfied: werkzeug>=1.0.1 in c:\\users\\numam\\anaconda3\\lib\\site-packages (from tensorboard<2.11,>=2.10->tensorflow->keras_nlp==0.3.0) (2.0.2)\n",
      "Requirement already satisfied: tensorboard-data-server<0.7.0,>=0.6.0 in c:\\users\\numam\\anaconda3\\lib\\site-packages (from tensorboard<2.11,>=2.10->tensorflow->keras_nlp==0.3.0) (0.6.1)\n",
      "Requirement already satisfied: cachetools<6.0,>=2.0.0 in c:\\users\\numam\\anaconda3\\lib\\site-packages (from google-auth<3,>=1.6.3->tensorboard<2.11,>=2.10->tensorflow->keras_nlp==0.3.0) (5.2.0)\n",
      "Requirement already satisfied: pyasn1-modules>=0.2.1 in c:\\users\\numam\\anaconda3\\lib\\site-packages (from google-auth<3,>=1.6.3->tensorboard<2.11,>=2.10->tensorflow->keras_nlp==0.3.0) (0.2.8)\n",
      "Requirement already satisfied: rsa<5,>=3.1.4 in c:\\users\\numam\\anaconda3\\lib\\site-packages (from google-auth<3,>=1.6.3->tensorboard<2.11,>=2.10->tensorflow->keras_nlp==0.3.0) (4.7.2)\n",
      "Requirement already satisfied: requests-oauthlib>=0.7.0 in c:\\users\\numam\\anaconda3\\lib\\site-packages (from google-auth-oauthlib<0.5,>=0.4.1->tensorboard<2.11,>=2.10->tensorflow->keras_nlp==0.3.0) (1.3.1)\n",
      "Requirement already satisfied: importlib-metadata>=4.4 in c:\\users\\numam\\anaconda3\\lib\\site-packages (from markdown>=2.6.8->tensorboard<2.11,>=2.10->tensorflow->keras_nlp==0.3.0) (4.8.1)\n",
      "Requirement already satisfied: zipp>=0.5 in c:\\users\\numam\\anaconda3\\lib\\site-packages (from importlib-metadata>=4.4->markdown>=2.6.8->tensorboard<2.11,>=2.10->tensorflow->keras_nlp==0.3.0) (3.6.0)\n",
      "Requirement already satisfied: pyasn1<0.5.0,>=0.4.6 in c:\\users\\numam\\anaconda3\\lib\\site-packages (from pyasn1-modules>=0.2.1->google-auth<3,>=1.6.3->tensorboard<2.11,>=2.10->tensorflow->keras_nlp==0.3.0) (0.4.8)\n",
      "Requirement already satisfied: urllib3<1.27,>=1.21.1 in c:\\users\\numam\\anaconda3\\lib\\site-packages (from requests<3,>=2.21.0->tensorboard<2.11,>=2.10->tensorflow->keras_nlp==0.3.0) (1.26.7)\n",
      "Requirement already satisfied: idna<4,>=2.5 in c:\\users\\numam\\anaconda3\\lib\\site-packages (from requests<3,>=2.21.0->tensorboard<2.11,>=2.10->tensorflow->keras_nlp==0.3.0) (2.10)\n",
      "Requirement already satisfied: certifi>=2017.4.17 in c:\\users\\numam\\anaconda3\\lib\\site-packages (from requests<3,>=2.21.0->tensorboard<2.11,>=2.10->tensorflow->keras_nlp==0.3.0) (2021.10.8)\n",
      "Requirement already satisfied: charset-normalizer~=2.0.0 in c:\\users\\numam\\anaconda3\\lib\\site-packages (from requests<3,>=2.21.0->tensorboard<2.11,>=2.10->tensorflow->keras_nlp==0.3.0) (2.0.4)\n",
      "Requirement already satisfied: oauthlib>=3.0.0 in c:\\users\\numam\\anaconda3\\lib\\site-packages (from requests-oauthlib>=0.7.0->google-auth-oauthlib<0.5,>=0.4.1->tensorboard<2.11,>=2.10->tensorflow->keras_nlp==0.3.0) (3.2.0)\n",
      "Collecting tensorflow-hub>=0.8.0\n",
      "  Downloading tensorflow_hub-0.12.0-py2.py3-none-any.whl (108 kB)\n",
      "Installing collected packages: tensorflow-hub, tensorflow-text, keras-nlp\n",
      "Successfully installed keras-nlp-0.3.0 tensorflow-hub-0.12.0 tensorflow-text-2.10.0\n",
      "Requirement already satisfied: datasets in c:\\users\\numam\\anaconda3\\lib\\site-packages (2.7.1)\n",
      "Requirement already satisfied: pandas in c:\\users\\numam\\anaconda3\\lib\\site-packages (from datasets) (1.3.4)\n",
      "Requirement already satisfied: pyarrow>=6.0.0 in c:\\users\\numam\\anaconda3\\lib\\site-packages (from datasets) (10.0.1)\n",
      "Requirement already satisfied: numpy>=1.17 in c:\\users\\numam\\anaconda3\\lib\\site-packages (from datasets) (1.20.3)\n",
      "Requirement already satisfied: xxhash in c:\\users\\numam\\anaconda3\\lib\\site-packages (from datasets) (3.1.0)\n",
      "Requirement already satisfied: responses<0.19 in c:\\users\\numam\\anaconda3\\lib\\site-packages (from datasets) (0.18.0)\n",
      "Requirement already satisfied: pyyaml>=5.1 in c:\\users\\numam\\anaconda3\\lib\\site-packages (from datasets) (6.0)\n",
      "Requirement already satisfied: packaging in c:\\users\\numam\\anaconda3\\lib\\site-packages (from datasets) (21.0)\n",
      "Requirement already satisfied: dill<0.3.7 in c:\\users\\numam\\anaconda3\\lib\\site-packages (from datasets) (0.3.6)\n",
      "Requirement already satisfied: tqdm>=4.62.1 in c:\\users\\numam\\anaconda3\\lib\\site-packages (from datasets) (4.62.3)\n",
      "Requirement already satisfied: requests>=2.19.0 in c:\\users\\numam\\anaconda3\\lib\\site-packages (from datasets) (2.26.0)\n",
      "Requirement already satisfied: fsspec[http]>=2021.11.1 in c:\\users\\numam\\anaconda3\\lib\\site-packages (from datasets) (2022.11.0)\n",
      "Requirement already satisfied: aiohttp in c:\\users\\numam\\anaconda3\\lib\\site-packages (from datasets) (3.8.3)\n",
      "Requirement already satisfied: huggingface-hub<1.0.0,>=0.2.0 in c:\\users\\numam\\anaconda3\\lib\\site-packages (from datasets) (0.11.0)\n",
      "Requirement already satisfied: multiprocess in c:\\users\\numam\\anaconda3\\lib\\site-packages (from datasets) (0.70.14)\n",
      "Requirement already satisfied: aiosignal>=1.1.2 in c:\\users\\numam\\anaconda3\\lib\\site-packages (from aiohttp->datasets) (1.3.1)\n",
      "Requirement already satisfied: charset-normalizer<3.0,>=2.0 in c:\\users\\numam\\anaconda3\\lib\\site-packages (from aiohttp->datasets) (2.0.4)\n",
      "Requirement already satisfied: multidict<7.0,>=4.5 in c:\\users\\numam\\anaconda3\\lib\\site-packages (from aiohttp->datasets) (6.0.2)\n",
      "Requirement already satisfied: frozenlist>=1.1.1 in c:\\users\\numam\\anaconda3\\lib\\site-packages (from aiohttp->datasets) (1.3.3)\n",
      "Requirement already satisfied: attrs>=17.3.0 in c:\\users\\numam\\anaconda3\\lib\\site-packages (from aiohttp->datasets) (21.2.0)\n",
      "Requirement already satisfied: yarl<2.0,>=1.0 in c:\\users\\numam\\anaconda3\\lib\\site-packages (from aiohttp->datasets) (1.8.1)\n",
      "Requirement already satisfied: async-timeout<5.0,>=4.0.0a3 in c:\\users\\numam\\anaconda3\\lib\\site-packages (from aiohttp->datasets) (4.0.2)\n",
      "Requirement already satisfied: typing-extensions>=3.7.4.3 in c:\\users\\numam\\anaconda3\\lib\\site-packages (from huggingface-hub<1.0.0,>=0.2.0->datasets) (4.4.0)\n",
      "Requirement already satisfied: filelock in c:\\users\\numam\\anaconda3\\lib\\site-packages (from huggingface-hub<1.0.0,>=0.2.0->datasets) (3.8.0)\n",
      "Requirement already satisfied: pyparsing>=2.0.2 in c:\\users\\numam\\anaconda3\\lib\\site-packages (from packaging->datasets) (3.0.4)\n",
      "Requirement already satisfied: urllib3<1.27,>=1.21.1 in c:\\users\\numam\\anaconda3\\lib\\site-packages (from requests>=2.19.0->datasets) (1.26.7)\n",
      "Requirement already satisfied: idna<4,>=2.5 in c:\\users\\numam\\anaconda3\\lib\\site-packages (from requests>=2.19.0->datasets) (2.10)\n",
      "Requirement already satisfied: certifi>=2017.4.17 in c:\\users\\numam\\anaconda3\\lib\\site-packages (from requests>=2.19.0->datasets) (2021.10.8)\n",
      "Requirement already satisfied: colorama in c:\\users\\numam\\anaconda3\\lib\\site-packages (from tqdm>=4.62.1->datasets) (0.4.4)\n",
      "Requirement already satisfied: python-dateutil>=2.7.3 in c:\\users\\numam\\anaconda3\\lib\\site-packages (from pandas->datasets) (2.8.2)\n",
      "Requirement already satisfied: pytz>=2017.3 in c:\\users\\numam\\anaconda3\\lib\\site-packages (from pandas->datasets) (2021.3)\n",
      "Requirement already satisfied: six>=1.5 in c:\\users\\numam\\anaconda3\\lib\\site-packages (from python-dateutil>=2.7.3->pandas->datasets) (1.16.0)\n"
     ]
    },
    {
     "name": "stdout",
     "output_type": "stream",
     "text": [
      "Requirement already satisfied: huggingface-hub in c:\\users\\numam\\anaconda3\\lib\\site-packages (0.11.0)\n",
      "Requirement already satisfied: requests in c:\\users\\numam\\anaconda3\\lib\\site-packages (from huggingface-hub) (2.26.0)\n",
      "Requirement already satisfied: packaging>=20.9 in c:\\users\\numam\\anaconda3\\lib\\site-packages (from huggingface-hub) (21.0)\n",
      "Requirement already satisfied: filelock in c:\\users\\numam\\anaconda3\\lib\\site-packages (from huggingface-hub) (3.8.0)\n",
      "Requirement already satisfied: typing-extensions>=3.7.4.3 in c:\\users\\numam\\anaconda3\\lib\\site-packages (from huggingface-hub) (4.4.0)\n",
      "Requirement already satisfied: tqdm in c:\\users\\numam\\anaconda3\\lib\\site-packages (from huggingface-hub) (4.62.3)\n",
      "Requirement already satisfied: pyyaml>=5.1 in c:\\users\\numam\\anaconda3\\lib\\site-packages (from huggingface-hub) (6.0)\n",
      "Requirement already satisfied: pyparsing>=2.0.2 in c:\\users\\numam\\anaconda3\\lib\\site-packages (from packaging>=20.9->huggingface-hub) (3.0.4)\n",
      "Requirement already satisfied: charset-normalizer~=2.0.0 in c:\\users\\numam\\anaconda3\\lib\\site-packages (from requests->huggingface-hub) (2.0.4)\n",
      "Requirement already satisfied: idna<4,>=2.5 in c:\\users\\numam\\anaconda3\\lib\\site-packages (from requests->huggingface-hub) (2.10)\n",
      "Requirement already satisfied: certifi>=2017.4.17 in c:\\users\\numam\\anaconda3\\lib\\site-packages (from requests->huggingface-hub) (2021.10.8)\n",
      "Requirement already satisfied: urllib3<1.27,>=1.21.1 in c:\\users\\numam\\anaconda3\\lib\\site-packages (from requests->huggingface-hub) (1.26.7)\n",
      "Requirement already satisfied: colorama in c:\\users\\numam\\anaconda3\\lib\\site-packages (from tqdm->huggingface-hub) (0.4.4)\n",
      "Requirement already satisfied: nltk in c:\\users\\numam\\anaconda3\\lib\\site-packages (3.6.5)\n",
      "Requirement already satisfied: click in c:\\users\\numam\\anaconda3\\lib\\site-packages (from nltk) (8.0.3)\n",
      "Requirement already satisfied: joblib in c:\\users\\numam\\anaconda3\\lib\\site-packages (from nltk) (1.1.0)\n",
      "Requirement already satisfied: regex>=2021.8.3 in c:\\users\\numam\\anaconda3\\lib\\site-packages (from nltk) (2021.8.3)\n",
      "Requirement already satisfied: tqdm in c:\\users\\numam\\anaconda3\\lib\\site-packages (from nltk) (4.62.3)\n",
      "Requirement already satisfied: colorama in c:\\users\\numam\\anaconda3\\lib\\site-packages (from click->nltk) (0.4.4)\n"
     ]
    }
   ],
   "source": [
    "!pip install transformers==4.20.0\n",
    "!pip install keras_nlp==0.3.0\n",
    "!pip install datasets\n",
    "!pip install huggingface-hub\n",
    "!pip install nltk"
   ]
  },
  {
   "cell_type": "markdown",
   "metadata": {
    "id": "2PtTYFaEjTnW"
   },
   "source": [
    "### Importing the necessary libraries"
   ]
  },
  {
   "cell_type": "code",
   "execution_count": 3,
   "metadata": {
    "id": "7T6Ku-1wjTnX"
   },
   "outputs": [],
   "source": [
    "import os\n",
    "import logging\n",
    "\n",
    "import nltk\n",
    "import numpy as np\n",
    "import tensorflow as tf\n",
    "from tensorflow import keras\n",
    "\n",
    "# Only log error messages\n",
    "tf.get_logger().setLevel(logging.ERROR)\n",
    "\n",
    "os.environ[\"TOKENIZERS_PARALLELISM\"] = \"false\""
   ]
  },
  {
   "cell_type": "markdown",
   "metadata": {
    "id": "3qfHJaBJjTnY"
   },
   "source": [
    "### Define certain variables"
   ]
  },
  {
   "cell_type": "code",
   "execution_count": 4,
   "metadata": {
    "id": "JzLL0qIPjTnY"
   },
   "outputs": [],
   "source": [
    "# The percentage of the dataset you want to split as train and test\n",
    "TRAIN_TEST_SPLIT = 0.1\n",
    "\n",
    "MAX_INPUT_LENGTH = 1024  # Maximum length of the input to the model\n",
    "MIN_TARGET_LENGTH = 5  # Minimum length of the output by the model\n",
    "MAX_TARGET_LENGTH = 128  # Maximum length of the output by the model\n",
    "BATCH_SIZE = 8  # Batch-size for training our model\n",
    "LEARNING_RATE = 2e-5  # Learning-rate for training our model\n",
    "MAX_EPOCHS = 1  # Maximum number of epochs we will train the model for\n",
    "\n",
    "# This notebook is built on the t5-small checkpoint from the Hugging Face Model Hub\n",
    "MODEL_CHECKPOINT = \"t5-small\""
   ]
  },
  {
   "cell_type": "markdown",
   "metadata": {
    "id": "iY6oV3dIjTnZ"
   },
   "source": [
    "## Load the dataset\n",
    "\n",
    "We will now download the [Extreme Summarization (XSum)](https://arxiv.org/abs/1808.08745).\n",
    "The dataset consists of BBC articles and accompanying single sentence summaries.\n",
    "Specifically, each article is prefaced with an introductory sentence (aka summary) which is\n",
    "professionally written, typically by the author of the article. That dataset has 226,711 articles\n",
    "divided into training (90%, 204,045), validation (5%, 11,332), and test (5%, 11,334) sets.\n",
    "\n",
    "Following much of literature, we use the Recall-Oriented Understudy for Gisting Evaluation\n",
    "(ROUGE) metric to evaluate our sequence-to-sequence abstrative summarization approach.\n",
    "\n",
    "We will use the [Hugging Face Datasets](https://github.com/huggingface/datasets) library to download\n",
    "the data we need to use for training and evaluation. This can be easily done with the\n",
    "`load_dataset` function."
   ]
  },
  {
   "cell_type": "code",
   "execution_count": 5,
   "metadata": {
    "id": "_dqT_4HrjTna"
   },
   "outputs": [
    {
     "data": {
      "application/vnd.jupyter.widget-view+json": {
       "model_id": "750185557c884de9a4aabcc34bbaf5f8",
       "version_major": 2,
       "version_minor": 0
      },
      "text/plain": [
       "Downloading builder script:   0%|          | 0.00/5.79k [00:00<?, ?B/s]"
      ]
     },
     "metadata": {},
     "output_type": "display_data"
    },
    {
     "data": {
      "application/vnd.jupyter.widget-view+json": {
       "model_id": "1d0e6938570c400ea40f662cdea45bd1",
       "version_major": 2,
       "version_minor": 0
      },
      "text/plain": [
       "Downloading metadata:   0%|          | 0.00/1.91k [00:00<?, ?B/s]"
      ]
     },
     "metadata": {},
     "output_type": "display_data"
    },
    {
     "data": {
      "application/vnd.jupyter.widget-view+json": {
       "model_id": "10b5d67e9ad742faa6bd8f136d55631f",
       "version_major": 2,
       "version_minor": 0
      },
      "text/plain": [
       "Downloading readme:   0%|          | 0.00/6.24k [00:00<?, ?B/s]"
      ]
     },
     "metadata": {},
     "output_type": "display_data"
    },
    {
     "name": "stdout",
     "output_type": "stream",
     "text": [
      "Downloading and preparing dataset xsum/default to C:/Users/numam/.cache/huggingface/datasets/xsum/default/1.2.0/32c23220eadddb1149b16ed2e9430a05293768cfffbdfd151058697d4c11f934...\n"
     ]
    },
    {
     "data": {
      "application/vnd.jupyter.widget-view+json": {
       "model_id": "8727b8bac19f4929a7db8b70bf8292fb",
       "version_major": 2,
       "version_minor": 0
      },
      "text/plain": [
       "Downloading data files:   0%|          | 0/2 [00:00<?, ?it/s]"
      ]
     },
     "metadata": {},
     "output_type": "display_data"
    },
    {
     "data": {
      "application/vnd.jupyter.widget-view+json": {
       "model_id": "ab698b9cf86e4ca5a98c91d5381f06f9",
       "version_major": 2,
       "version_minor": 0
      },
      "text/plain": [
       "Downloading data:   0%|          | 0.00/255M [00:00<?, ?B/s]"
      ]
     },
     "metadata": {},
     "output_type": "display_data"
    },
    {
     "data": {
      "application/vnd.jupyter.widget-view+json": {
       "model_id": "74b6c211531f4a03badeeaf3bf1de967",
       "version_major": 2,
       "version_minor": 0
      },
      "text/plain": [
       "Downloading data:   0%|          | 0.00/1.00M [00:00<?, ?B/s]"
      ]
     },
     "metadata": {},
     "output_type": "display_data"
    },
    {
     "data": {
      "application/vnd.jupyter.widget-view+json": {
       "model_id": "",
       "version_major": 2,
       "version_minor": 0
      },
      "text/plain": [
       "Generating train split:   0%|          | 0/204045 [00:00<?, ? examples/s]"
      ]
     },
     "metadata": {},
     "output_type": "display_data"
    },
    {
     "data": {
      "application/vnd.jupyter.widget-view+json": {
       "model_id": "",
       "version_major": 2,
       "version_minor": 0
      },
      "text/plain": [
       "Generating validation split:   0%|          | 0/11332 [00:00<?, ? examples/s]"
      ]
     },
     "metadata": {},
     "output_type": "display_data"
    },
    {
     "data": {
      "application/vnd.jupyter.widget-view+json": {
       "model_id": "",
       "version_major": 2,
       "version_minor": 0
      },
      "text/plain": [
       "Generating test split:   0%|          | 0/11334 [00:00<?, ? examples/s]"
      ]
     },
     "metadata": {},
     "output_type": "display_data"
    },
    {
     "name": "stdout",
     "output_type": "stream",
     "text": [
      "Dataset xsum downloaded and prepared to C:/Users/numam/.cache/huggingface/datasets/xsum/default/1.2.0/32c23220eadddb1149b16ed2e9430a05293768cfffbdfd151058697d4c11f934. Subsequent calls will reuse this data.\n"
     ]
    }
   ],
   "source": [
    "from datasets import load_dataset\n",
    "\n",
    "raw_datasets = load_dataset(\"xsum\", split=\"train\")"
   ]
  },
  {
   "cell_type": "markdown",
   "metadata": {
    "id": "TwLOpdSzjTnd"
   },
   "source": [
    "The dataset has the following fields:\n",
    "\n",
    "- **document**: the original BBC article to me summarized\n",
    "- **summary**: the single sentence summary of the BBC article\n",
    "- **id**: ID of the document-summary pair"
   ]
  },
  {
   "cell_type": "code",
   "execution_count": 6,
   "metadata": {
    "id": "OkGXP8xWjTne"
   },
   "outputs": [
    {
     "name": "stdout",
     "output_type": "stream",
     "text": [
      "Dataset({\n",
      "    features: ['document', 'summary', 'id'],\n",
      "    num_rows: 204045\n",
      "})\n"
     ]
    }
   ],
   "source": [
    "print(raw_datasets)"
   ]
  },
  {
   "cell_type": "markdown",
   "metadata": {
    "id": "hfcSYc47jTne"
   },
   "source": [
    "We will now see how the data looks like:"
   ]
  },
  {
   "cell_type": "code",
   "execution_count": 7,
   "metadata": {
    "id": "bh74oN31jTne"
   },
   "outputs": [
    {
     "name": "stdout",
     "output_type": "stream",
     "text": [
      "{'document': 'The full cost of damage in Newton Stewart, one of the areas worst affected, is still being assessed.\\nRepair work is ongoing in Hawick and many roads in Peeblesshire remain badly affected by standing water.\\nTrains on the west coast mainline face disruption due to damage at the Lamington Viaduct.\\nMany businesses and householders were affected by flooding in Newton Stewart after the River Cree overflowed into the town.\\nFirst Minister Nicola Sturgeon visited the area to inspect the damage.\\nThe waters breached a retaining wall, flooding many commercial properties on Victoria Street - the main shopping thoroughfare.\\nJeanette Tate, who owns the Cinnamon Cafe which was badly affected, said she could not fault the multi-agency response once the flood hit.\\nHowever, she said more preventative work could have been carried out to ensure the retaining wall did not fail.\\n\"It is difficult but I do think there is so much publicity for Dumfries and the Nith - and I totally appreciate that - but it is almost like we\\'re neglected or forgotten,\" she said.\\n\"That may not be true but it is perhaps my perspective over the last few days.\\n\"Why were you not ready to help us a bit more when the warning and the alarm alerts had gone out?\"\\nMeanwhile, a flood alert remains in place across the Borders because of the constant rain.\\nPeebles was badly hit by problems, sparking calls to introduce more defences in the area.\\nScottish Borders Council has put a list on its website of the roads worst affected and drivers have been urged not to ignore closure signs.\\nThe Labour Party\\'s deputy Scottish leader Alex Rowley was in Hawick on Monday to see the situation first hand.\\nHe said it was important to get the flood protection plan right but backed calls to speed up the process.\\n\"I was quite taken aback by the amount of damage that has been done,\" he said.\\n\"Obviously it is heart-breaking for people who have been forced out of their homes and the impact on businesses.\"\\nHe said it was important that \"immediate steps\" were taken to protect the areas most vulnerable and a clear timetable put in place for flood prevention plans.\\nHave you been affected by flooding in Dumfries and Galloway or the Borders? Tell us about your experience of the situation and how it was handled. Email us on selkirk.news@bbc.co.uk or dumfries@bbc.co.uk.', 'summary': 'Clean-up operations are continuing across the Scottish Borders and Dumfries and Galloway after flooding caused by Storm Frank.', 'id': '35232142'}\n"
     ]
    }
   ],
   "source": [
    "print(raw_datasets[0])"
   ]
  },
  {
   "cell_type": "markdown",
   "metadata": {
    "id": "JzPIaGiQjTne"
   },
   "source": [
    "For the sake of demonstrating the workflow, in this notebook we will only take\n",
    "small stratified balanced splits (10%) of the train as our training and test sets.\n",
    "We can easily split teh dataset using the `train_test_split` method which expects\n",
    "the split size and the name of the column relative to which you want to stratify."
   ]
  },
  {
   "cell_type": "code",
   "execution_count": 8,
   "metadata": {
    "id": "BgfSAr13jTnf"
   },
   "outputs": [],
   "source": [
    "raw_datasets = raw_datasets.train_test_split(\n",
    "    train_size=TRAIN_TEST_SPLIT, test_size=TRAIN_TEST_SPLIT\n",
    ")"
   ]
  },
  {
   "cell_type": "markdown",
   "metadata": {
    "id": "EDl5vg8wjTnf"
   },
   "source": [
    "## Data Pre-processing\n",
    "\n",
    "Before we can feed those texts to our model, we need to pre-process them and get them\n",
    "ready for the task. This is done by a Hugging Face Transformers `Tokenizer` which will tokenize\n",
    "the inputs (including converting the tokens to their corresponding IDs in the pretrained\n",
    "vocabulary) and put it in a format the model expects, as well as generate the other inputs\n",
    "that model requires.\n",
    "\n",
    "The `from_pretrained()` method expects the name of a model from the Hugging Face Model Hub. This is\n",
    "exactly similar to MODEL_CHECKPOINT declared earlier and we will just pass that."
   ]
  },
  {
   "cell_type": "code",
   "execution_count": 9,
   "metadata": {
    "id": "JKSBmlGVjTnf"
   },
   "outputs": [
    {
     "data": {
      "application/vnd.jupyter.widget-view+json": {
       "model_id": "de72999f3bf44404a0f9cbe2d5f56630",
       "version_major": 2,
       "version_minor": 0
      },
      "text/plain": [
       "Downloading:   0%|          | 0.00/792k [00:00<?, ?B/s]"
      ]
     },
     "metadata": {},
     "output_type": "display_data"
    },
    {
     "name": "stderr",
     "output_type": "stream",
     "text": [
      "C:\\Users\\numam\\anaconda3\\lib\\site-packages\\huggingface_hub\\file_download.py:125: UserWarning: `huggingface_hub` cache-system uses symlinks by default to efficiently store duplicated files but your machine does not support them in C:\\Users\\numam\\.cache\\huggingface\\hub. Caching files will still work but in a degraded version that might require more space on your disk. This warning can be disabled by setting the `HF_HUB_DISABLE_SYMLINKS_WARNING` environment variable. For more details, see https://huggingface.co/docs/huggingface_hub/how-to-cache#limitations.\n",
      "To support symlinks on Windows, you either need to activate Developer Mode or to run Python as an administrator. In order to see activate developer mode, see this article: https://docs.microsoft.com/en-us/windows/apps/get-started/enable-your-device-for-development\n",
      "  warnings.warn(message)\n"
     ]
    },
    {
     "data": {
      "application/vnd.jupyter.widget-view+json": {
       "model_id": "4b55e112421b46e8ac3bfffbfecbc261",
       "version_major": 2,
       "version_minor": 0
      },
      "text/plain": [
       "Downloading:   0%|          | 0.00/1.39M [00:00<?, ?B/s]"
      ]
     },
     "metadata": {},
     "output_type": "display_data"
    },
    {
     "name": "stderr",
     "output_type": "stream",
     "text": [
      "C:\\Users\\numam\\anaconda3\\lib\\site-packages\\transformers\\models\\t5\\tokenization_t5_fast.py:156: FutureWarning: This tokenizer was incorrectly instantiated with a model max length of 512 which will be corrected in Transformers v5.\n",
      "For now, this behavior is kept to avoid breaking backwards compatibility when padding/encoding with `truncation is True`.\n",
      "- Be aware that you SHOULD NOT rely on t5-small automatically truncating your input to 512 when padding/encoding.\n",
      "- If you want to encode/pad to sequences longer than 512 you can either instantiate this tokenizer with `model_max_length` or pass `max_length` when encoding/padding.\n",
      "- To avoid this warning, please instantiate this tokenizer with `model_max_length` set to your preferred value.\n",
      "  warnings.warn(\n"
     ]
    }
   ],
   "source": [
    "from transformers import AutoTokenizer\n",
    "\n",
    "tokenizer = AutoTokenizer.from_pretrained(MODEL_CHECKPOINT)"
   ]
  },
  {
   "cell_type": "markdown",
   "metadata": {
    "id": "MTFg6Qv0jTng"
   },
   "source": [
    "If you are using one of the five T5 checkpoints we have to prefix the inputs with\n",
    "\"summarize:\" (the model can also translate and it needs the prefix to know which task it\n",
    "has to perform)."
   ]
  },
  {
   "cell_type": "code",
   "execution_count": 10,
   "metadata": {
    "id": "KvcOuL9cjTng"
   },
   "outputs": [],
   "source": [
    "if MODEL_CHECKPOINT in [\"t5-small\", \"t5-base\", \"t5-large\", \"t5-3b\", \"t5-11b\"]:\n",
    "    prefix = \"summarize: \"\n",
    "else:\n",
    "    prefix = \"\""
   ]
  },
  {
   "cell_type": "markdown",
   "metadata": {
    "id": "HbSG8mZ5jTng"
   },
   "source": [
    "We will write a simple function that helps us in the pre-processing that is compatible\n",
    "with Hugging Face Datasets. To summarize, our pre-processing function should:\n",
    "\n",
    "- Tokenize the text dataset (input and targets) into it's corresponding token ids that\n",
    "will be used for embedding look-up in BERT\n",
    "- Add the prefix to the tokens\n",
    "- Create additional inputs for the model like `token_type_ids`, `attention_mask`, etc."
   ]
  },
  {
   "cell_type": "code",
   "execution_count": 11,
   "metadata": {
    "id": "Phn6S7QmjTng"
   },
   "outputs": [],
   "source": [
    "\n",
    "def preprocess_function(examples):\n",
    "    inputs = [prefix + doc for doc in examples[\"document\"]]\n",
    "    model_inputs = tokenizer(inputs, max_length=MAX_INPUT_LENGTH, truncation=True)\n",
    "\n",
    "    # Setup the tokenizer for targets\n",
    "    with tokenizer.as_target_tokenizer():\n",
    "        labels = tokenizer(\n",
    "            examples[\"summary\"], max_length=MAX_TARGET_LENGTH, truncation=True\n",
    "        )\n",
    "\n",
    "    model_inputs[\"labels\"] = labels[\"input_ids\"]\n",
    "\n",
    "    return model_inputs\n"
   ]
  },
  {
   "cell_type": "markdown",
   "metadata": {
    "id": "e4R8I39sjTnh"
   },
   "source": [
    "To apply this function on all the pairs of sentences in our dataset, we just use the\n",
    "`map` method of our `dataset` object we created earlier. This will apply the function on\n",
    "all the elements of all the splits in `dataset`, so our training, validation and testing\n",
    "data will be preprocessed in one single command."
   ]
  },
  {
   "cell_type": "code",
   "execution_count": 12,
   "metadata": {
    "id": "4OrHGQQJjTnh"
   },
   "outputs": [
    {
     "data": {
      "application/vnd.jupyter.widget-view+json": {
       "model_id": "62f450377000411a9c41da0f2323a1cc",
       "version_major": 2,
       "version_minor": 0
      },
      "text/plain": [
       "  0%|          | 0/21 [00:00<?, ?ba/s]"
      ]
     },
     "metadata": {},
     "output_type": "display_data"
    },
    {
     "name": "stderr",
     "output_type": "stream",
     "text": [
      "C:\\Users\\numam\\anaconda3\\lib\\site-packages\\transformers\\tokenization_utils_base.py:3546: UserWarning: `as_target_tokenizer` is deprecated and will be removed in v5 of Transformers. You can tokenize your labels by using the argument `text_target` of the regular `__call__` method (either in the same call as your input texts if you use the same keyword arguments, or in a separate call.\n",
      "  warnings.warn(\n"
     ]
    },
    {
     "data": {
      "application/vnd.jupyter.widget-view+json": {
       "model_id": "eced4e1a0650419aa5398f464f0e01da",
       "version_major": 2,
       "version_minor": 0
      },
      "text/plain": [
       "  0%|          | 0/21 [00:00<?, ?ba/s]"
      ]
     },
     "metadata": {},
     "output_type": "display_data"
    }
   ],
   "source": [
    "tokenized_datasets = raw_datasets.map(preprocess_function, batched=True)"
   ]
  },
  {
   "cell_type": "markdown",
   "metadata": {
    "id": "1H57yKDFjTnh"
   },
   "source": [
    "## Defining the model\n",
    "\n",
    "Now we can download the pretrained model and fine-tune it. Since our task is\n",
    "sequence-to-sequence (both the input and output are text sequences), we use the\n",
    "`TFAutoModelForSeq2SeqLM` class from the Hugging Face Transformers library. Like with the\n",
    "tokenizer, the `from_pretrained` method will download and cache the model for us.\n",
    "\n",
    "The `from_pretrained()` method expects the name of a model from the Hugging Face Model Hub. As\n",
    "mentioned earlier, we will use the `t5-base` model checkpoint."
   ]
  },
  {
   "cell_type": "code",
   "execution_count": 13,
   "metadata": {
    "id": "x3eAM3grjTnh"
   },
   "outputs": [
    {
     "data": {
      "application/vnd.jupyter.widget-view+json": {
       "model_id": "9e1520108040492eb64b48c467481ddc",
       "version_major": 2,
       "version_minor": 0
      },
      "text/plain": [
       "Downloading:   0%|          | 0.00/242M [00:00<?, ?B/s]"
      ]
     },
     "metadata": {},
     "output_type": "display_data"
    },
    {
     "name": "stderr",
     "output_type": "stream",
     "text": [
      "All model checkpoint layers were used when initializing TFT5ForConditionalGeneration.\n",
      "\n",
      "All the layers of TFT5ForConditionalGeneration were initialized from the model checkpoint at t5-small.\n",
      "If your task is similar to the task the model of the checkpoint was trained on, you can already use TFT5ForConditionalGeneration for predictions without further training.\n"
     ]
    }
   ],
   "source": [
    "from transformers import TFAutoModelForSeq2SeqLM, DataCollatorForSeq2Seq\n",
    "\n",
    "model = TFAutoModelForSeq2SeqLM.from_pretrained(MODEL_CHECKPOINT)"
   ]
  },
  {
   "cell_type": "markdown",
   "metadata": {
    "id": "T9jp4ddCjTni"
   },
   "source": [
    "For training Sequence to Sequence models, we need a special kind of data collator,\n",
    "which will not only pad the inputs to the maximum length in the batch, but also the\n",
    "labels. Thus, we use the `DataCollatorForSeq2Seq` provided by the Hugging Face Transformers\n",
    "library on our dataset. The `return_tensors='tf'` ensures that we get `tf.Tensor`\n",
    "objects back."
   ]
  },
  {
   "cell_type": "code",
   "execution_count": 14,
   "metadata": {
    "id": "n66dmhqcjTni"
   },
   "outputs": [],
   "source": [
    "from transformers import DataCollatorForSeq2Seq\n",
    "\n",
    "data_collator = DataCollatorForSeq2Seq(tokenizer, model=model, return_tensors=\"tf\")"
   ]
  },
  {
   "cell_type": "markdown",
   "metadata": {
    "id": "2-fmP-ECjTni"
   },
   "source": [
    "Next we define our training and testing sets with which we will train our model. Again, Hugging Face\n",
    "Datasets provides us with the `to_tf_dataset` method which will help us integrate our\n",
    "dataset with the `collator` defined above. The method expects certain parameters:\n",
    "\n",
    "- **columns**: the columns which will serve as our independant variables\n",
    "- **batch_size**: our batch size for training\n",
    "- **shuffle**: whether we want to shuffle our dataset\n",
    "- **collate_fn**: our collator function\n",
    "\n",
    "Additionally, we also define a relatively smaller `generation_dataset` to calculate\n",
    "`ROUGE` scores on the fly while training."
   ]
  },
  {
   "cell_type": "code",
   "execution_count": 15,
   "metadata": {
    "id": "EjYKQuFjjTni"
   },
   "outputs": [
    {
     "name": "stderr",
     "output_type": "stream",
     "text": [
      "You're using a T5TokenizerFast tokenizer. Please note that with a fast tokenizer, using the `__call__` method is faster than using a method to encode the text followed by a call to the `pad` method to get a padded encoding.\n"
     ]
    }
   ],
   "source": [
    "train_dataset = tokenized_datasets[\"train\"].to_tf_dataset(\n",
    "    batch_size=BATCH_SIZE,\n",
    "    columns=[\"input_ids\", \"attention_mask\", \"labels\"],\n",
    "    shuffle=True,\n",
    "    collate_fn=data_collator,\n",
    ")\n",
    "test_dataset = tokenized_datasets[\"test\"].to_tf_dataset(\n",
    "    batch_size=BATCH_SIZE,\n",
    "    columns=[\"input_ids\", \"attention_mask\", \"labels\"],\n",
    "    shuffle=False,\n",
    "    collate_fn=data_collator,\n",
    ")\n",
    "generation_dataset = (\n",
    "    tokenized_datasets[\"test\"]\n",
    "    .shuffle()\n",
    "    .select(list(range(200)))\n",
    "    .to_tf_dataset(\n",
    "        batch_size=BATCH_SIZE,\n",
    "        columns=[\"input_ids\", \"attention_mask\", \"labels\"],\n",
    "        shuffle=False,\n",
    "        collate_fn=data_collator,\n",
    "    )\n",
    ")"
   ]
  },
  {
   "cell_type": "markdown",
   "metadata": {
    "id": "PArX9ahqjTni"
   },
   "source": [
    "## Building and Compiling the the model\n",
    "\n",
    "Now we will define our optimizer and compile the model. The loss calculation is handled\n",
    "internally and so we need not worry about that!"
   ]
  },
  {
   "cell_type": "code",
   "execution_count": 16,
   "metadata": {
    "id": "313MLlbGjTnj"
   },
   "outputs": [
    {
     "name": "stderr",
     "output_type": "stream",
     "text": [
      "No loss specified in compile() - the model's internal loss computation will be used as the loss. Don't panic - this is a common way to train TensorFlow models in Transformers! To disable this behaviour please pass a loss argument, or explicitly pass `loss=None` if you do not want your model to compute a loss.\n"
     ]
    }
   ],
   "source": [
    "optimizer = keras.optimizers.Adam(learning_rate=LEARNING_RATE)\n",
    "model.compile(optimizer=optimizer)"
   ]
  },
  {
   "cell_type": "markdown",
   "metadata": {
    "id": "fm7QZZMbjTnj"
   },
   "source": [
    "## Training and Evaluating the model\n",
    "\n",
    "To evaluate our model on-the-fly while training, we will define `metric_fn` which will\n",
    "calculate the `ROUGE` score between the groud-truth and predictions."
   ]
  },
  {
   "cell_type": "code",
   "execution_count": 34,
   "metadata": {
    "id": "vk4If5UfjTnj"
   },
   "outputs": [
    {
     "ename": "ImportError",
     "evalue": "ROUGE metric requires the `rouge_score` package. Please install it with `pip install rouge-score`.",
     "output_type": "error",
     "traceback": [
      "\u001b[1;31m---------------------------------------------------------------------------\u001b[0m",
      "\u001b[1;31mImportError\u001b[0m                               Traceback (most recent call last)",
      "\u001b[1;32m~\\AppData\\Local\\Temp/ipykernel_10304/2438448660.py\u001b[0m in \u001b[0;36m<module>\u001b[1;34m\u001b[0m\n\u001b[0;32m      1\u001b[0m \u001b[1;32mimport\u001b[0m \u001b[0mkeras_nlp\u001b[0m\u001b[1;33m\u001b[0m\u001b[1;33m\u001b[0m\u001b[0m\n\u001b[0;32m      2\u001b[0m \u001b[1;33m\u001b[0m\u001b[0m\n\u001b[1;32m----> 3\u001b[1;33m \u001b[0mrouge_l\u001b[0m \u001b[1;33m=\u001b[0m \u001b[0mkeras_nlp\u001b[0m\u001b[1;33m.\u001b[0m\u001b[0mmetrics\u001b[0m\u001b[1;33m.\u001b[0m\u001b[0mRougeL\u001b[0m\u001b[1;33m(\u001b[0m\u001b[1;33m)\u001b[0m\u001b[1;33m\u001b[0m\u001b[1;33m\u001b[0m\u001b[0m\n\u001b[0m\u001b[0;32m      4\u001b[0m \u001b[1;33m\u001b[0m\u001b[0m\n\u001b[0;32m      5\u001b[0m \u001b[1;33m\u001b[0m\u001b[0m\n",
      "\u001b[1;32m~\\anaconda3\\lib\\site-packages\\keras_nlp\\metrics\\rouge_l.py\u001b[0m in \u001b[0;36m__init__\u001b[1;34m(self, use_stemmer, dtype, name, **kwargs)\u001b[0m\n\u001b[0;32m    116\u001b[0m         \u001b[1;33m**\u001b[0m\u001b[0mkwargs\u001b[0m\u001b[1;33m,\u001b[0m\u001b[1;33m\u001b[0m\u001b[1;33m\u001b[0m\u001b[0m\n\u001b[0;32m    117\u001b[0m     ):\n\u001b[1;32m--> 118\u001b[1;33m         super().__init__(\n\u001b[0m\u001b[0;32m    119\u001b[0m             \u001b[0mvariant\u001b[0m\u001b[1;33m=\u001b[0m\u001b[1;34m\"rougeL\"\u001b[0m\u001b[1;33m,\u001b[0m\u001b[1;33m\u001b[0m\u001b[1;33m\u001b[0m\u001b[0m\n\u001b[0;32m    120\u001b[0m             \u001b[0muse_stemmer\u001b[0m\u001b[1;33m=\u001b[0m\u001b[0muse_stemmer\u001b[0m\u001b[1;33m,\u001b[0m\u001b[1;33m\u001b[0m\u001b[1;33m\u001b[0m\u001b[0m\n",
      "\u001b[1;32m~\\anaconda3\\lib\\site-packages\\keras_nlp\\metrics\\rouge_base.py\u001b[0m in \u001b[0;36m__init__\u001b[1;34m(self, variant, use_stemmer, dtype, name, **kwargs)\u001b[0m\n\u001b[0;32m     62\u001b[0m \u001b[1;33m\u001b[0m\u001b[0m\n\u001b[0;32m     63\u001b[0m         \u001b[1;32mif\u001b[0m \u001b[0mrouge_score\u001b[0m \u001b[1;32mis\u001b[0m \u001b[1;32mNone\u001b[0m\u001b[1;33m:\u001b[0m\u001b[1;33m\u001b[0m\u001b[1;33m\u001b[0m\u001b[0m\n\u001b[1;32m---> 64\u001b[1;33m             raise ImportError(\n\u001b[0m\u001b[0;32m     65\u001b[0m                 \u001b[1;34m\"ROUGE metric requires the `rouge_score` package. \"\u001b[0m\u001b[1;33m\u001b[0m\u001b[1;33m\u001b[0m\u001b[0m\n\u001b[0;32m     66\u001b[0m                 \u001b[1;34m\"Please install it with `pip install rouge-score`.\"\u001b[0m\u001b[1;33m\u001b[0m\u001b[1;33m\u001b[0m\u001b[0m\n",
      "\u001b[1;31mImportError\u001b[0m: ROUGE metric requires the `rouge_score` package. Please install it with `pip install rouge-score`."
     ]
    }
   ],
   "source": [
    "import keras_nlp\n",
    "\n",
    "rouge_l = keras_nlp.metrics.RougeL()\n",
    "\n",
    "\n",
    "def metric_fn(eval_predictions):\n",
    "    predictions, labels = eval_predictions\n",
    "    decoded_predictions = tokenizer.batch_decode(predictions, skip_special_tokens=True)\n",
    "    for label in labels:\n",
    "        label[label < 0] = tokenizer.pad_token_id  # Replace masked label tokens\n",
    "    decoded_labels = tokenizer.batch_decode(labels, skip_special_tokens=True)\n",
    "    result = rouge_l(decoded_labels, decoded_predictions)\n",
    "    # We will print only the F1 score, you can use other aggregation metrics as well\n",
    "    result = {\"RougeL\": result[\"f1_score\"]}\n",
    "\n",
    "    return result\n"
   ]
  },
  {
   "cell_type": "markdown",
   "metadata": {
    "id": "GsdHTiAZjTnj"
   },
   "source": [
    "Now we can finally start training our model!"
   ]
  },
  {
   "cell_type": "code",
   "execution_count": null,
   "metadata": {
    "id": "BQ7tEBu_jTnk"
   },
   "outputs": [],
   "source": [
    "from transformers.keras_callbacks import KerasMetricCallback\n",
    "\n",
    "metric_callback = KerasMetricCallback(\n",
    "    metric_fn, eval_dataset=generation_dataset, predict_with_generate=True\n",
    ")\n",
    "\n",
    "callbacks = [metric_callback]\n",
    "\n",
    "# For now we will use our test set as our validation_data\n",
    "model.fit(\n",
    "    train_dataset, validation_data=test_dataset, epochs=MAX_EPOCHS, callbacks=callbacks\n",
    ")"
   ]
  },
  {
   "cell_type": "markdown",
   "metadata": {
    "id": "hx-CykNtjTnk"
   },
   "source": [
    "For best results, we recommend training the model for atleast 5 epochs on the entire\n",
    "training dataset!"
   ]
  },
  {
   "cell_type": "markdown",
   "metadata": {
    "id": "iyFeZBa-jTnk"
   },
   "source": [
    "## Inference\n",
    "\n",
    "Now we will try to infer the model we trained on an arbitary article. To do so,\n",
    "we will use the `pipeline` method from Hugging Face Transformers. Hugging Face Transformers provides\n",
    "us with a variety of pipelines to choose from. For our task, we use the `summarization`\n",
    "pipeline.\n",
    "\n",
    "The `pipeline` method takes in the trained model and tokenizer as arguments. The\n",
    "`framework=\"tf\"` argument ensures that you are passing a model that was trained with TF."
   ]
  },
  {
   "cell_type": "code",
   "execution_count": null,
   "metadata": {
    "id": "wQA9GfbRjTnk"
   },
   "outputs": [],
   "source": [
    "from transformers import pipeline\n",
    "\n",
    "summarizer = pipeline(\"summarization\", model=model, tokenizer=tokenizer, framework=\"tf\")\n",
    "\n",
    "summarizer(\n",
    "    raw_datasets[\"test\"][0][\"document\"],\n",
    "    min_length=MIN_TARGET_LENGTH,\n",
    "    max_length=MAX_TARGET_LENGTH,\n",
    ")"
   ]
  },
  {
   "cell_type": "markdown",
   "metadata": {
    "id": "OA6aIBOfjTnk"
   },
   "source": [
    "Now you can push this model to Hugging Face Model Hub and also share it with with all your friends,\n",
    "family, favorite pets: they can all load it with the identifier\n",
    "`\"your-username/the-name-you-picked\"` so for instance:\n",
    "\n",
    "```python\n",
    "model.push_to_hub(\"transformers-qa\", organization=\"keras-io\")\n",
    "tokenizer.push_to_hub(\"transformers-qa\", organization=\"keras-io\")\n",
    "```\n",
    "And after you push your model this is how you can load it in the future!\n",
    "\n",
    "```python\n",
    "from transformers import TFAutoModelForSeq2SeqLM\n",
    "\n",
    "model = TFAutoModelForSeq2SeqLM.from_pretrained(\"your-username/my-awesome-model\")\n",
    "```"
   ]
  }
 ],
 "metadata": {
  "colab": {
   "name": "summarization",
   "provenance": [],
   "toc_visible": true
  },
  "kernelspec": {
   "display_name": "Python 3 (ipykernel)",
   "language": "python",
   "name": "python3"
  },
  "language_info": {
   "codemirror_mode": {
    "name": "ipython",
    "version": 3
   },
   "file_extension": ".py",
   "mimetype": "text/x-python",
   "name": "python",
   "nbconvert_exporter": "python",
   "pygments_lexer": "ipython3",
   "version": "3.9.7"
  },
  "vscode": {
   "interpreter": {
    "hash": "f0d6cd4ceb253e39b256fa9d77f54c927b7ca70e4289411a659862d2ff69b3ac"
   }
  }
 },
 "nbformat": 4,
 "nbformat_minor": 1
}
